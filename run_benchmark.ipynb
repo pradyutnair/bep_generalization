{
 "cells": [
  {
   "cell_type": "markdown",
   "source": [
    "# MOPO Parameterised"
   ],
   "metadata": {
    "collapsed": false
   },
   "id": "a282ced4261725d7"
  },
  {
   "cell_type": "markdown",
   "source": [
    "# Imports"
   ],
   "metadata": {
    "collapsed": false
   },
   "id": "31a0ff6cd073b541"
  },
  {
   "cell_type": "code",
   "execution_count": 17,
   "outputs": [],
   "source": [
    "import warnings\n",
    "warnings.filterwarnings('ignore')\n",
    "from offlinerlkit.nets import MLP\n",
    "from offlinerlkit.modules import ActorProb, Critic, TanhDiagGaussian, EnsembleDynamicsModel\n",
    "from offlinerlkit.dynamics import EnsembleDynamics\n",
    "from offlinerlkit.utils.scaler import StandardScaler\n",
    "from offlinerlkit.utils.termination_fns import get_termination_fn\n",
    "from offlinerlkit.utils.load_dataset import qlearning_dataset\n",
    "from offlinerlkit.buffer import ReplayBuffer\n",
    "from offlinerlkit.utils.logger import Logger, make_log_dirs\n",
    "from offlinerlkit.policy_trainer import MBPolicyTrainer\n",
    "from offlinerlkit.policy import MOPOPolicy, COMBOPolicy\n",
    "from typing import Literal\n",
    "import torch\n",
    "import numpy as np\n",
    "import gym\n",
    "import argparse\n",
    "from tqdm import tqdm\n",
    "import d4rl\n",
    "from d4rl import qlearning_dataset\n",
    "import time\n",
    "import os\n",
    "from torchviz import make_dot\n",
    "import graphviz\n",
    "import os\n",
    "import sys\n",
    "import random\n",
    "import pandas as pd\n",
    "# seed\n",
    "random.seed(42)\n",
    "np.random.seed(42)\n",
    "torch.manual_seed(42)\n",
    "torch.cuda.manual_seed_all(42)\n",
    "torch.backends.cudnn.deterministic = True"
   ],
   "metadata": {
    "collapsed": false,
    "ExecuteTime": {
     "end_time": "2023-11-12T15:45:41.936671969Z",
     "start_time": "2023-11-12T15:45:41.819612789Z"
    }
   },
   "id": "f3507d892b46a398"
  },
  {
   "cell_type": "code",
   "execution_count": 18,
   "outputs": [
    {
     "data": {
      "text/plain": "True"
     },
     "execution_count": 18,
     "metadata": {},
     "output_type": "execute_result"
    }
   ],
   "source": [
    "# Check if cuda is available\n",
    "torch.cuda.is_available()"
   ],
   "metadata": {
    "collapsed": false,
    "ExecuteTime": {
     "end_time": "2023-11-12T15:45:41.939469059Z",
     "start_time": "2023-11-12T15:45:41.825214806Z"
    }
   },
   "id": "34ae11fc30c74f78"
  },
  {
   "cell_type": "markdown",
   "source": [
    "# Source function formatter"
   ],
   "metadata": {
    "collapsed": false
   },
   "id": "c2135b08eed40ec6"
  },
  {
   "cell_type": "code",
   "execution_count": 19,
   "outputs": [
    {
     "name": "stdout",
     "output_type": "stream",
     "text": [
      "    def example_function():\n",
      "        def step(self, action):\n",
      "            observation, reward, done, info = self.env.step(action)\n",
      "            self._elapsed_steps += 1\n",
      "            if self._elapsed_steps >= self._max_episode_steps:\n",
      "                info[\"TimeLimit.truncated\"] = not done\n",
      "                done = True\n",
      "            return observation, reward, done, info\n"
     ]
    }
   ],
   "source": [
    "import inspect\n",
    "import textwrap\n",
    "\n",
    "def format_function_source(func):\n",
    "    lines, _ = inspect.getsourcelines(func)\n",
    "    source_code = ''.join(lines)\n",
    "    \n",
    "    # Dedent the source code\n",
    "    dedented_code = textwrap.dedent(source_code)\n",
    "    \n",
    "    # Indent the dedented code to format it as a function\n",
    "    indented_code = textwrap.indent(dedented_code, ' ' * 4)\n",
    "    \n",
    "    return indented_code\n",
    "\n",
    "# Example: Define a function outside the notebook\n",
    "def example_function():\n",
    "    def step(self, action):\n",
    "        observation, reward, done, info = self.env.step(action)\n",
    "        self._elapsed_steps += 1\n",
    "        if self._elapsed_steps >= self._max_episode_steps:\n",
    "            info[\"TimeLimit.truncated\"] = not done\n",
    "            done = True\n",
    "        return observation, reward, done, info\n",
    "\n",
    "# Format the function defined outside the notebook\n",
    "formatted_code = format_function_source(example_function)\n",
    "print(formatted_code)\n"
   ],
   "metadata": {
    "collapsed": false,
    "ExecuteTime": {
     "end_time": "2023-11-12T15:45:41.953331301Z",
     "start_time": "2023-11-12T15:45:41.826284547Z"
    }
   },
   "id": "d648ec19f08f7388"
  },
  {
   "cell_type": "markdown",
   "source": [
    "# Retrieve gym environment"
   ],
   "metadata": {
    "collapsed": false
   },
   "id": "5570546844ea4497"
  },
  {
   "cell_type": "code",
   "execution_count": 20,
   "outputs": [],
   "source": [
    "def gym_environment_creator(env_name:str) -> (gym.Env, int, int, int):\n",
    "    \"\"\"\n",
    "    Create gym environment\n",
    "    :param env_name: string of the environment name\n",
    "    :return: \n",
    "    \"\"\"\n",
    "    # Create environment\n",
    "    env = gym.make(env_name)\n",
    "    dataset = env.get_dataset()\n",
    "    obs_shape = env.observation_space.shape\n",
    "    action_shape = env.action_space.shape\n",
    "    max_action = env.action_space.high[0]\n",
    "    \n",
    "    # Create product\n",
    "    obs_prod = np.prod(obs_shape)\n",
    "    action_prod = np.prod(action_shape)\n",
    "    \n",
    "    return env, dataset, obs_prod, obs_shape, action_shape, action_prod, max_action"
   ],
   "metadata": {
    "collapsed": false,
    "ExecuteTime": {
     "end_time": "2023-11-12T15:45:42.038356972Z",
     "start_time": "2023-11-12T15:45:41.831499604Z"
    }
   },
   "id": "d2c825302efe5828"
  },
  {
   "cell_type": "code",
   "execution_count": 61,
   "outputs": [
    {
     "name": "stderr",
     "output_type": "stream",
     "text": [
      "load datafile: 100%|██████████| 21/21 [00:01<00:00, 13.41it/s]\n"
     ]
    }
   ],
   "source": [
    "halfcheetah_d4rl, dataset, obs_prod, obs_shape, action_shape, action_prod, max_action = gym_environment_creator('halfcheetah-medium-v2')"
   ],
   "metadata": {
    "collapsed": false,
    "ExecuteTime": {
     "end_time": "2023-11-12T16:20:32.847198117Z",
     "start_time": "2023-11-12T16:20:31.272201338Z"
    }
   },
   "id": "6006ea44d7cb0c86"
  },
  {
   "cell_type": "code",
   "execution_count": 22,
   "outputs": [
    {
     "name": "stdout",
     "output_type": "stream",
     "text": [
      "    def step(self, action):\n",
      "        observation, reward, done, info = self.env.step(action)\n",
      "        self._elapsed_steps += 1\n",
      "        if self._elapsed_steps >= self._max_episode_steps:\n",
      "            info[\"TimeLimit.truncated\"] = not done\n",
      "            done = True\n",
      "        return observation, reward, done, info\n"
     ]
    }
   ],
   "source": [
    "print(format_function_source(halfcheetah_d4rl.step))"
   ],
   "metadata": {
    "collapsed": false,
    "ExecuteTime": {
     "end_time": "2023-11-12T15:45:43.595564268Z",
     "start_time": "2023-11-12T15:45:43.590477494Z"
    }
   },
   "id": "5337fb11f746ae78"
  },
  {
   "cell_type": "markdown",
   "source": [
    "# Arguments"
   ],
   "metadata": {
    "collapsed": false
   },
   "id": "dc2e453551369ba4"
  },
  {
   "cell_type": "code",
   "execution_count": 23,
   "outputs": [],
   "source": [
    "from typing import Literal\n",
    "import argparse\n",
    "\n",
    "def args_generator(algo_name: Literal['mopo', 'combo'] = 'mopo', task_name: str ='halfcheetah-medium-v2'):\n",
    "    template_args = {\n",
    "        \"mopo\": {\n",
    "            \"algo_name\": 'mopo',\n",
    "            \"hidden_dims\": [256, 256],\n",
    "        },\n",
    "        \"combo\": {\n",
    "            \"algo_name\": \"combo\",\n",
    "            \"hidden_dims\": [256, 256, 256],\n",
    "            \"cql_weight\": 0.5,\n",
    "            \"temperature\": 1.0,\n",
    "            \"max_q_backup\": False,\n",
    "            \"deterministic_backup\": True,\n",
    "            \"with_lagrange\": False,\n",
    "            \"lagrange_threshold\": 10.0,\n",
    "            \"cql_alpha_lr\": 3e-4,\n",
    "            \"num_repeat_actions\": 10,\n",
    "            \"uniform_rollout\": False,\n",
    "            \"rho_s\": \"mix\",\n",
    "        }\n",
    "    }\n",
    "\n",
    "    template_args[algo_name][\"task\"] = task_name\n",
    "    template_args[algo_name][\"seed\"] = 1\n",
    "    template_args[algo_name][\"actor_lr\"] = 1e-4\n",
    "    template_args[algo_name][\"critic_lr\"] = 3e-4\n",
    "    template_args[algo_name][\"gamma\"] = 0.99\n",
    "    template_args[algo_name][\"tau\"] = 0.005\n",
    "    template_args[algo_name][\"alpha\"] = 0.2\n",
    "    template_args[algo_name][\"alpha_lr\"] = 1e-4\n",
    "    template_args[algo_name][\"auto_alpha\"] = True\n",
    "    template_args[algo_name][\"target_entropy\"] = None\n",
    "    template_args[algo_name][\"dynamics_lr\"] = 1e-3\n",
    "    template_args[algo_name][\"dynamics_hidden_dims\"] = [200, 200, 200, 200]\n",
    "    template_args[algo_name][\"dynamics_weight_decay\"] = [2.5e-5, 5e-5, 7.5e-5, 7.5e-5, 1e-4]\n",
    "    template_args[algo_name][\"n_ensemble\"] = 7\n",
    "    template_args[algo_name][\"n_elites\"] = 5\n",
    "    template_args[algo_name][\"rollout_freq\"] = 1000\n",
    "    template_args[algo_name][\"rollout_batch_size\"] = 50000\n",
    "    template_args[algo_name][\"rollout_length\"] = 5\n",
    "    template_args[algo_name][\"model_retain_epochs\"] = 5\n",
    "    template_args[algo_name][\"load_dynamics_path\"] = None\n",
    "    template_args[algo_name][\"epoch\"] = 1000\n",
    "    template_args[algo_name][\"step_per_epoch\"] = 1000\n",
    "    template_args[algo_name][\"eval_episodes\"] = 10\n",
    "    template_args[algo_name][\"batch_size\"] = 256\n",
    "    template_args[algo_name]['penalty_coef'] = 0.5\n",
    "    template_args[algo_name][\"real_ratio\"] = 0.05\n",
    "    template_args[algo_name][\"device\"] = \"cuda\"\n",
    "    \n",
    "    # Halfcheetah specific settings\n",
    "    template_args[algo_name][\"obs_shape\"] = obs_shape\n",
    "    template_args[algo_name][\"action_dim\"] = action_prod\n",
    "    template_args[algo_name][\"max_action\"] = max_action\n",
    "    \n",
    "    argument = template_args[algo_name]\n",
    "    return argparse.Namespace(**argument)\n",
    "\n",
    "mopo_args = args_generator(algo_name='mopo')\n",
    "combo_args = args_generator(algo_name='combo')"
   ],
   "metadata": {
    "collapsed": false,
    "ExecuteTime": {
     "end_time": "2023-11-12T15:45:43.614025449Z",
     "start_time": "2023-11-12T15:45:43.593393259Z"
    }
   },
   "id": "b96929cc375b8cd5"
  },
  {
   "cell_type": "code",
   "execution_count": 24,
   "outputs": [
    {
     "data": {
      "text/plain": "Namespace(algo_name='mopo', hidden_dims=[256, 256], task='halfcheetah-medium-v2', seed=1, actor_lr=0.0001, critic_lr=0.0003, gamma=0.99, tau=0.005, alpha=0.2, alpha_lr=0.0001, auto_alpha=True, target_entropy=None, dynamics_lr=0.001, dynamics_hidden_dims=[200, 200, 200, 200], dynamics_weight_decay=[2.5e-05, 5e-05, 7.5e-05, 7.5e-05, 0.0001], n_ensemble=7, n_elites=5, rollout_freq=1000, rollout_batch_size=50000, rollout_length=5, model_retain_epochs=5, load_dynamics_path=None, epoch=1000, step_per_epoch=1000, eval_episodes=10, batch_size=256, penalty_coef=0.5, real_ratio=0.05, device='cuda', obs_shape=(17,), action_dim=6, max_action=1.0)"
     },
     "execution_count": 24,
     "metadata": {},
     "output_type": "execute_result"
    }
   ],
   "source": [
    "mopo_args"
   ],
   "metadata": {
    "collapsed": false,
    "ExecuteTime": {
     "end_time": "2023-11-12T15:45:43.669684559Z",
     "start_time": "2023-11-12T15:45:43.602556915Z"
    }
   },
   "id": "10d2e80bfdef90ee"
  },
  {
   "cell_type": "code",
   "execution_count": 25,
   "outputs": [
    {
     "data": {
      "text/plain": "Namespace(algo_name='combo', hidden_dims=[256, 256, 256], cql_weight=0.5, temperature=1.0, max_q_backup=False, deterministic_backup=True, with_lagrange=False, lagrange_threshold=10.0, cql_alpha_lr=0.0003, num_repeat_actions=10, uniform_rollout=False, rho_s='mix', task='halfcheetah-medium-v2', seed=1, actor_lr=0.0001, critic_lr=0.0003, gamma=0.99, tau=0.005, alpha=0.2, alpha_lr=0.0001, auto_alpha=True, target_entropy=None, dynamics_lr=0.001, dynamics_hidden_dims=[200, 200, 200, 200], dynamics_weight_decay=[2.5e-05, 5e-05, 7.5e-05, 7.5e-05, 0.0001], n_ensemble=7, n_elites=5, rollout_freq=1000, rollout_batch_size=50000, rollout_length=5, model_retain_epochs=5, load_dynamics_path=None, epoch=1000, step_per_epoch=1000, eval_episodes=10, batch_size=256, penalty_coef=0.5, real_ratio=0.05, device='cuda', obs_shape=(17,), action_dim=6, max_action=1.0)"
     },
     "execution_count": 25,
     "metadata": {},
     "output_type": "execute_result"
    }
   ],
   "source": [
    "combo_args"
   ],
   "metadata": {
    "collapsed": false,
    "ExecuteTime": {
     "end_time": "2023-11-12T15:45:43.683745663Z",
     "start_time": "2023-11-12T15:45:43.646311599Z"
    }
   },
   "id": "39c2a54be8ca188c"
  },
  {
   "cell_type": "markdown",
   "source": [
    "# Build MOPO"
   ],
   "metadata": {
    "collapsed": false
   },
   "id": "49ebafef97f3f2e3"
  },
  {
   "cell_type": "code",
   "execution_count": 26,
   "outputs": [],
   "source": [
    "def mopo(args = mopo_args, env: gym.Env = halfcheetah_d4rl, dataset: dict = dataset, saved_policy: str = None,\n",
    "         saved_dynamics: str = None):\n",
    "    \"\"\"\n",
    "    Build MOPO\n",
    "    :param args: dictionary of arguments \n",
    "    :param env: gym environment\n",
    "    :param dataset: dataset from d4rl\n",
    "    :param saved_policy: path to saved policy\n",
    "    :param saved_dynamics: path to saved dynamics model\n",
    "    :return: mopo policy and policytrainer from offlinerlkit\n",
    "    \"\"\"\n",
    "    # Set seed\n",
    "    torch.manual_seed(args.seed)\n",
    "    torch.cuda.manual_seed_all(args.seed)\n",
    "    np.random.seed(args.seed)\n",
    "    random.seed(args.seed)\n",
    "    \n",
    "    # Create backbones\n",
    "    actor_backbone = MLP(input_dim=np.prod(args.obs_shape), hidden_dims=args.hidden_dims)\n",
    "    critic1_backbone = MLP(input_dim=np.prod(args.obs_shape) + args.action_dim, hidden_dims=[256,256])\n",
    "    critic2_backbone = MLP(input_dim=np.prod(args.obs_shape) + args.action_dim, hidden_dims=args.hidden_dims)\n",
    "    dist = TanhDiagGaussian(\n",
    "        latent_dim=getattr(actor_backbone, \"output_dim\"),\n",
    "        output_dim=args.action_dim,\n",
    "        unbounded=True,\n",
    "        conditioned_sigma=True\n",
    "    )\n",
    "    \n",
    "    # Create actor and critic networks\n",
    "    actor = ActorProb(actor_backbone, dist, args.device)\n",
    "    critic1 = Critic(critic1_backbone, args.device)\n",
    "    critic2 = Critic(critic2_backbone, args.device)\n",
    "    actor_optim = torch.optim.Adam(actor.parameters(), lr=args.actor_lr)\n",
    "    critic1_optim = torch.optim.Adam(critic1.parameters(), lr=args.critic_lr)\n",
    "    critic2_optim = torch.optim.Adam(critic2.parameters(), lr=args.critic_lr)\n",
    "    \n",
    "    # Create lr scheduler\n",
    "    lr_scheduler = torch.optim.lr_scheduler.CosineAnnealingLR(actor_optim, T_max=args.epoch)\n",
    "\n",
    "    # Create alpha\n",
    "    if args.auto_alpha:\n",
    "        target_entropy = args.target_entropy if args.target_entropy \\\n",
    "            else -np.prod(env.action_space.shape)\n",
    "    \n",
    "        args.target_entropy = target_entropy\n",
    "    \n",
    "        log_alpha = torch.zeros(1, requires_grad=True, device=args.device)\n",
    "        alpha_optim = torch.optim.Adam([log_alpha], lr=args.alpha_lr)\n",
    "        alpha = (target_entropy, log_alpha, alpha_optim)\n",
    "    else:\n",
    "        alpha = args.alpha\n",
    "        \n",
    "    # Create dynamics model ensemble\n",
    "    dynamics_model = EnsembleDynamicsModel(\n",
    "        obs_dim=np.prod(args.obs_shape),\n",
    "        action_dim=args.action_dim,\n",
    "        hidden_dims=args.dynamics_hidden_dims,\n",
    "        num_ensemble=args.n_ensemble,\n",
    "        num_elites=args.n_elites,\n",
    "        weight_decays=args.dynamics_weight_decay,\n",
    "        device=args.device\n",
    "    )\n",
    "    dynamics_optim = torch.optim.Adam(\n",
    "        dynamics_model.parameters(),\n",
    "        lr=args.dynamics_lr\n",
    "    )\n",
    "    scaler = StandardScaler()\n",
    "    termination_fn = get_termination_fn(task=args.task)\n",
    "    dynamics = EnsembleDynamics(\n",
    "        dynamics_model,\n",
    "        dynamics_optim,\n",
    "        scaler,\n",
    "        termination_fn,\n",
    "        penalty_coef=args.penalty_coef,\n",
    "    )\n",
    "    \n",
    "    # Create policy\n",
    "    policy = MOPOPolicy(\n",
    "        dynamics,\n",
    "        actor,\n",
    "        critic1,\n",
    "        critic2,\n",
    "        actor_optim,\n",
    "        critic1_optim,\n",
    "        critic2_optim,\n",
    "        tau=args.tau,\n",
    "        gamma=args.gamma,\n",
    "        alpha=alpha\n",
    "    )\n",
    "\n",
    "    # Create replay buffer\n",
    "    real_buffer = ReplayBuffer(\n",
    "        buffer_size=len(dataset[\"observations\"]),\n",
    "        obs_shape=args.obs_shape,\n",
    "        obs_dtype=np.float32,\n",
    "        action_dim=args.action_dim,\n",
    "        action_dtype=np.float32,\n",
    "        device=args.device\n",
    "    )\n",
    "    real_buffer.load_dataset(dataset)\n",
    "    fake_buffer = ReplayBuffer(\n",
    "        buffer_size=args.rollout_batch_size*args.rollout_length*args.model_retain_epochs,\n",
    "        obs_shape=args.obs_shape,\n",
    "        obs_dtype=np.float32,\n",
    "        action_dim=args.action_dim,\n",
    "        action_dtype=np.float32,\n",
    "        device=args.device\n",
    "    )\n",
    "    \n",
    "    # Create logger\n",
    "    log_dirs = make_log_dirs(args.task, args.algo_name, args.seed, vars(args), record_params=[\"penalty_coef\", \"rollout_length\"])\n",
    "    # key: output file name, value: output handler type\n",
    "    output_config = {\n",
    "        \"consoleout_backup\": \"stdout\",\n",
    "        \"policy_training_progress\": \"csv\",\n",
    "        \"dynamics_training_progress\": \"csv\",\n",
    "        \"tb\": \"tensorboard\"\n",
    "    }\n",
    "    logger = Logger(log_dirs, output_config)\n",
    "    logger.log_hyperparameters(vars(args))\n",
    "\n",
    "    \n",
    "    # Load policy\n",
    "    if saved_policy:\n",
    "        policy.load_state_dict(torch.load(saved_policy))\n",
    "        \n",
    "    # Create policy trainer\n",
    "    policy_trainer = MBPolicyTrainer(\n",
    "        policy=policy,\n",
    "        eval_env=env,\n",
    "        real_buffer=real_buffer,\n",
    "        fake_buffer=fake_buffer,\n",
    "        logger=logger,\n",
    "        rollout_setting=(args.rollout_freq, args.rollout_batch_size, args.rollout_length),\n",
    "        epoch=args.epoch,\n",
    "        step_per_epoch=args.step_per_epoch,\n",
    "        batch_size=args.batch_size,\n",
    "        real_ratio=args.real_ratio,\n",
    "        eval_episodes=args.eval_episodes,\n",
    "        lr_scheduler=lr_scheduler,\n",
    "    )\n",
    "    \n",
    "    return policy, policy_trainer\n",
    "        \n",
    "    \n",
    "    "
   ],
   "metadata": {
    "collapsed": false,
    "ExecuteTime": {
     "end_time": "2023-11-12T15:45:43.683992107Z",
     "start_time": "2023-11-12T15:45:43.646535372Z"
    }
   },
   "id": "e53154df0bd7b1e6"
  },
  {
   "cell_type": "code",
   "execution_count": 27,
   "outputs": [],
   "source": [
    "# Initialise a HALFCHEETAH policy and policy trainer\n",
    "mopo_policy, policy_trainer = mopo(saved_policy='/home/pradyutnair/Documents/Thesis/CARL/log/halfcheetah-medium-v2/mopo/seed_3_timestamp_23-0103-130104/checkpoint/policy.pth', saved_dynamics='/home/pradyutnair/Documents/Thesis/CARL/log/halfcheetah-medium-v2/mopo/seed_2_timestamp_23-0103-130105/model/dynamics.pth')"
   ],
   "metadata": {
    "collapsed": false,
    "ExecuteTime": {
     "end_time": "2023-11-12T15:45:43.736318071Z",
     "start_time": "2023-11-12T15:45:43.646662481Z"
    }
   },
   "id": "f84854bb0df89062"
  },
  {
   "cell_type": "markdown",
   "source": [
    "# Build COMBO"
   ],
   "metadata": {
    "collapsed": false
   },
   "id": "25c555c4fec70d97"
  },
  {
   "cell_type": "code",
   "execution_count": 28,
   "outputs": [],
   "source": [
    "def combo(args = combo_args, env: gym.Env = halfcheetah_d4rl, dataset: dict = dataset, saved_policy: str = None,\n",
    "         saved_dynamics: str = None):\n",
    "    \"\"\"\n",
    "    Build MOPO\n",
    "    :param args: dictionary of arguments \n",
    "    :param env: gym environment\n",
    "    :param dataset: dataset from d4rl\n",
    "    :param saved_policy: path to saved policy\n",
    "    :param saved_dynamics: path to saved dynamics model\n",
    "    :return: mopo policy and policytrainer from offlinerlkit\n",
    "    \"\"\"\n",
    "    # Set seed\n",
    "    random.seed(args.seed)\n",
    "    np.random.seed(args.seed)\n",
    "    torch.manual_seed(args.seed)\n",
    "    torch.cuda.manual_seed_all(args.seed)\n",
    "    torch.backends.cudnn.deterministic = True\n",
    "    env.seed(args.seed)\n",
    "    \n",
    "    # Create backbones\n",
    "    actor_backbone = MLP(input_dim=np.prod(args.obs_shape), hidden_dims=args.hidden_dims)\n",
    "    critic1_backbone = MLP(input_dim=np.prod(args.obs_shape) + args.action_dim, hidden_dims=args.hidden_dims)\n",
    "    critic2_backbone = MLP(input_dim=np.prod(args.obs_shape) + args.action_dim, hidden_dims=args.hidden_dims)\n",
    "    dist = TanhDiagGaussian(\n",
    "        latent_dim=getattr(actor_backbone, \"output_dim\"),\n",
    "        output_dim=args.action_dim,\n",
    "        unbounded=True,\n",
    "        conditioned_sigma=True\n",
    "    )\n",
    "    \n",
    "    # Create actor and critic networks\n",
    "    actor = ActorProb(actor_backbone, dist, args.device)\n",
    "    critic1 = Critic(critic1_backbone, args.device)\n",
    "    critic2 = Critic(critic2_backbone, args.device)\n",
    "    actor_optim = torch.optim.Adam(actor.parameters(), lr=args.actor_lr)\n",
    "    critic1_optim = torch.optim.Adam(critic1.parameters(), lr=args.critic_lr)\n",
    "    critic2_optim = torch.optim.Adam(critic2.parameters(), lr=args.critic_lr)\n",
    "    \n",
    "    # Create lr scheduler\n",
    "    lr_scheduler = torch.optim.lr_scheduler.CosineAnnealingLR(actor_optim, T_max=args.epoch)\n",
    "\n",
    "    # Create alpha\n",
    "    if args.auto_alpha:\n",
    "        target_entropy = args.target_entropy if args.target_entropy \\\n",
    "            else -np.prod(env.action_space.shape)\n",
    "    \n",
    "        args.target_entropy = target_entropy\n",
    "    \n",
    "        log_alpha = torch.zeros(1, requires_grad=True, device=args.device)\n",
    "        alpha_optim = torch.optim.Adam([log_alpha], lr=args.alpha_lr)\n",
    "        alpha = (target_entropy, log_alpha, alpha_optim)\n",
    "    else:\n",
    "        alpha = args.alpha\n",
    "        \n",
    "    # Create dynamics model ensemble\n",
    "    dynamics_model = EnsembleDynamicsModel(\n",
    "        obs_dim=np.prod(args.obs_shape),\n",
    "        action_dim=args.action_dim,\n",
    "        hidden_dims=args.dynamics_hidden_dims,\n",
    "        num_ensemble=args.n_ensemble,\n",
    "        num_elites=args.n_elites,\n",
    "        weight_decays=args.dynamics_weight_decay,\n",
    "        device=args.device\n",
    "    )\n",
    "    dynamics_optim = torch.optim.Adam(\n",
    "        dynamics_model.parameters(),\n",
    "        lr=args.dynamics_lr\n",
    "    )\n",
    "    scaler = StandardScaler()\n",
    "    termination_fn = get_termination_fn(task=args.task)\n",
    "    dynamics = EnsembleDynamics(\n",
    "        dynamics_model,\n",
    "        dynamics_optim,\n",
    "        scaler,\n",
    "        termination_fn,\n",
    "        penalty_coef=args.penalty_coef,\n",
    "    )\n",
    "    \n",
    "    if saved_dynamics:\n",
    "        dynamics.load(saved_dynamics)\n",
    "    \n",
    "    # Create policy\n",
    "    policy = COMBOPolicy(\n",
    "        dynamics,\n",
    "        actor,\n",
    "        critic1,\n",
    "        critic2,\n",
    "        actor_optim,\n",
    "        critic1_optim,\n",
    "        critic2_optim,\n",
    "        action_space=env.action_space,\n",
    "        tau=args.tau,\n",
    "        gamma=args.gamma,\n",
    "        alpha=alpha,\n",
    "        cql_weight=args.cql_weight,\n",
    "        temperature=args.temperature,\n",
    "        max_q_backup=args.max_q_backup,\n",
    "        deterministic_backup=args.deterministic_backup,\n",
    "        with_lagrange=args.with_lagrange,\n",
    "        lagrange_threshold=args.lagrange_threshold,\n",
    "        cql_alpha_lr=args.cql_alpha_lr,\n",
    "        num_repeart_actions=args.num_repeat_actions,\n",
    "        uniform_rollout=args.uniform_rollout,\n",
    "        rho_s=args.rho_s\n",
    "    )\n",
    "\n",
    "    # Create replay buffer\n",
    "    real_buffer = ReplayBuffer(\n",
    "        buffer_size=len(dataset[\"observations\"]),\n",
    "        obs_shape=args.obs_shape,\n",
    "        obs_dtype=np.float32,\n",
    "        action_dim=args.action_dim,\n",
    "        action_dtype=np.float32,\n",
    "        device=args.device\n",
    "    )\n",
    "    real_buffer.load_dataset(dataset)\n",
    "    fake_buffer = ReplayBuffer(\n",
    "        buffer_size=args.rollout_batch_size*args.rollout_length*args.model_retain_epochs,\n",
    "        obs_shape=args.obs_shape,\n",
    "        obs_dtype=np.float32,\n",
    "        action_dim=args.action_dim,\n",
    "        action_dtype=np.float32,\n",
    "        device=args.device\n",
    "    )\n",
    "    \n",
    "    # Create logger\n",
    "    log_dirs = make_log_dirs(args.task, args.algo_name, args.seed, vars(args), record_params=[\"penalty_coef\", \"rollout_length\"])\n",
    "    # key: output file name, value: output handler type\n",
    "    output_config = {\n",
    "        \"consoleout_backup\": \"stdout\",\n",
    "        \"policy_training_progress\": \"csv\",\n",
    "        \"dynamics_training_progress\": \"csv\",\n",
    "        \"tb\": \"tensorboard\"\n",
    "    }\n",
    "    logger = Logger(log_dirs, output_config)\n",
    "    logger.log_hyperparameters(vars(args))\n",
    "\n",
    "    \n",
    "    # Load policy\n",
    "    if saved_policy:\n",
    "        policy.load_state_dict(torch.load(saved_policy, map_location=torch.device('cpu')))\n",
    "        \n",
    "    # Create policy trainer\n",
    "    policy_trainer = MBPolicyTrainer(\n",
    "        policy=policy,\n",
    "        eval_env=env,\n",
    "        real_buffer=real_buffer,\n",
    "        fake_buffer=fake_buffer,\n",
    "        logger=logger,\n",
    "        rollout_setting=(args.rollout_freq, args.rollout_batch_size, args.rollout_length),\n",
    "        epoch=args.epoch,\n",
    "        step_per_epoch=args.step_per_epoch,\n",
    "        batch_size=args.batch_size,\n",
    "        real_ratio=args.real_ratio,\n",
    "        eval_episodes=args.eval_episodes,\n",
    "        lr_scheduler=lr_scheduler,\n",
    "    )\n",
    "    \n",
    "    return policy, policy_trainer\n",
    "    "
   ],
   "metadata": {
    "collapsed": false,
    "ExecuteTime": {
     "end_time": "2023-11-12T15:45:43.739550218Z",
     "start_time": "2023-11-12T15:45:43.718342105Z"
    }
   },
   "id": "ca3c1cd0ebd3db4b"
  },
  {
   "cell_type": "code",
   "execution_count": 29,
   "outputs": [
    {
     "data": {
      "text/plain": "0.5"
     },
     "execution_count": 29,
     "metadata": {},
     "output_type": "execute_result"
    }
   ],
   "source": [
    "combo_args.cql_weight"
   ],
   "metadata": {
    "collapsed": false,
    "ExecuteTime": {
     "end_time": "2023-11-12T15:45:43.800219783Z",
     "start_time": "2023-11-12T15:45:43.719854424Z"
    }
   },
   "id": "d55cedafec18431c"
  },
  {
   "cell_type": "code",
   "execution_count": 30,
   "outputs": [],
   "source": [
    "# Load pre-trained COMBO policy\n",
    "combo_policy, combo_policy_trainer = combo(saved_policy='/home/pradyutnair/Documents/Thesis/CARL/log/halfcheetah-medium-v2/combo/seed_3_timestamp_23-0506-040857/checkpoint/policy.pth', saved_dynamics='/home/pradyutnair/Documents/Thesis/CARL/log/halfcheetah-medium-v2/combo/seed_3_timestamp_23-0506-040857/model/')"
   ],
   "metadata": {
    "collapsed": false,
    "ExecuteTime": {
     "end_time": "2023-11-12T15:45:43.842272335Z",
     "start_time": "2023-11-12T15:45:43.762153983Z"
    }
   },
   "id": "136f96e1f359406c"
  },
  {
   "cell_type": "markdown",
   "source": [
    "# Environments"
   ],
   "metadata": {
    "collapsed": false
   },
   "id": "1debf45fd7ff347e"
  },
  {
   "cell_type": "markdown",
   "source": [
    "### CARL Cheetah"
   ],
   "metadata": {
    "collapsed": false
   },
   "id": "873271564f119d1b"
  },
  {
   "cell_type": "code",
   "execution_count": 31,
   "outputs": [
    {
     "name": "stderr",
     "output_type": "stream",
     "text": [
      "/home/pradyutnair/Documents/Thesis/OfflineRL-Kit/CARL/carl/envs/__init__.py:28: UserWarning: Module Box2D not found. If you want to use these environments, please follow the installation guide.\n",
      "  warnings.warn(\n",
      "/home/pradyutnair/Documents/Thesis/OfflineRL-Kit/CARL/carl/envs/__init__.py:28: UserWarning: Module py4j not found. If you want to use these environments, please follow the installation guide.\n",
      "  warnings.warn(\n"
     ]
    }
   ],
   "source": [
    "import matplotlib.pyplot as plt\n",
    "from carl.context.context_space import NormalFloatContextFeature\n",
    "from carl.context.sampler import ContextSampler\n",
    "from carl.envs import CARLBraxAnt, CARLBraxHalfcheetah"
   ],
   "metadata": {
    "collapsed": false,
    "ExecuteTime": {
     "end_time": "2023-11-12T15:45:45.541540758Z",
     "start_time": "2023-11-12T15:45:43.818433690Z"
    }
   },
   "id": "a72d070f2001ac84"
  },
  {
   "cell_type": "code",
   "execution_count": 32,
   "outputs": [],
   "source": [
    "def jax_to_torch(jax_array):\n",
    "    return torch.from_numpy(np.array(jax_array)).float().to(\"cuda\")"
   ],
   "metadata": {
    "collapsed": false,
    "ExecuteTime": {
     "end_time": "2023-11-12T15:45:45.541836757Z",
     "start_time": "2023-11-12T15:45:45.534266108Z"
    }
   },
   "id": "6d3ad513866c186b"
  },
  {
   "cell_type": "code",
   "execution_count": 33,
   "outputs": [
    {
     "data": {
      "text/plain": "{'friction': 2.75,\n 'elasticity': 0.0,\n 'ang_damping': -0.1375,\n 'viscosity': 0.0,\n 'mass_torso': 27.5,\n 'mass_bthigh': 4.244665149999999,\n 'mass_bshin': 4.3654809,\n 'mass_bfoot': 3.012343125,\n 'mass_fthigh': 3.954707075,\n 'mass_fshin': 3.3023012,\n 'mass_ffoot': 2.4324267,\n 'gravity': -9.8}"
     },
     "execution_count": 33,
     "metadata": {},
     "output_type": "execute_result"
    }
   ],
   "source": [
    "scaling_factor = 2.75\n",
    "context_dict = {'gravity': -9.8,\n",
    "  'friction': 1.0,\n",
    "  'elasticity': 0.0,\n",
    "  'ang_damping': -0.05,\n",
    "  'viscosity': 0.0,\n",
    "  'mass_torso': 10.0,\n",
    "  'mass_bthigh': 1.5435146,\n",
    "  'mass_bshin': 1.5874476,\n",
    "  'mass_bfoot': 1.0953975,\n",
    "  'mass_fthigh': 1.4380753,\n",
    "  'mass_fshin': 1.2008368,\n",
    "  'mass_ffoot': 0.8845188}\n",
    "# Multiply all values in the dictionary by scaling factor\n",
    "context_dict = {k: v * scaling_factor for k, v in context_dict.items() if k != 'gravity'}\n",
    "context_dict['gravity'] = -9.8\n",
    "context_dict"
   ],
   "metadata": {
    "collapsed": false,
    "ExecuteTime": {
     "end_time": "2023-11-12T15:45:45.563987418Z",
     "start_time": "2023-11-12T15:45:45.540816407Z"
    }
   },
   "id": "2a87ac939ae27558"
  },
  {
   "cell_type": "code",
   "execution_count": 34,
   "outputs": [
    {
     "name": "stderr",
     "output_type": "stream",
     "text": [
      "WARNING:jax._src.xla_bridge:An NVIDIA GPU may be present on this machine, but a CUDA-enabled jaxlib is not installed. Falling back to cpu.\n"
     ]
    },
    {
     "data": {
      "text/plain": "(17,)"
     },
     "execution_count": 34,
     "metadata": {},
     "output_type": "execute_result"
    }
   ],
   "source": [
    "modified_cheetah = CARLBraxHalfcheetah(context=context_dict)\n",
    "# check that the obs are of shape (17,\n",
    "modified_cheetah.reset()[0]['obs'].shape"
   ],
   "metadata": {
    "collapsed": false,
    "ExecuteTime": {
     "end_time": "2023-11-12T15:45:51.787320353Z",
     "start_time": "2023-11-12T15:45:45.547058123Z"
    }
   },
   "id": "7fc781b0248e9438"
  },
  {
   "cell_type": "code",
   "execution_count": 35,
   "outputs": [
    {
     "name": "stdout",
     "output_type": "stream",
     "text": [
      "    def step(\n",
      "        self, action: Any\n",
      "    ) -> tuple[Any, SupportsFloat, bool, bool, dict[str, Any]]:\n",
      "        \"\"\"Step the environment.\n",
      "\n",
      "        The context is added to the observation returned by the\n",
      "        wrapped environment.\n",
      "\n",
      "        Parameters\n",
      "        ----------\n",
      "        action : Any\n",
      "            Action\n",
      "\n",
      "        Returns\n",
      "        -------\n",
      "        tuple[Any, SupportsFloat, bool, bool, dict[str, Any]]\n",
      "            Observation, rewar, terminated, truncated, info.\n",
      "        \"\"\"\n",
      "        state, reward, terminated, truncated, info = super().step(action)\n",
      "        state = self._add_context_to_state(state)\n",
      "        info[\"context_id\"] = self.context_id\n",
      "        return state, reward, terminated, truncated, info\n"
     ]
    }
   ],
   "source": [
    "print(format_function_source(modified_cheetah.step))"
   ],
   "metadata": {
    "collapsed": false,
    "ExecuteTime": {
     "end_time": "2023-11-12T15:45:51.791780079Z",
     "start_time": "2023-11-12T15:45:51.784707225Z"
    }
   },
   "id": "6968be8128c25c46"
  },
  {
   "cell_type": "markdown",
   "source": [
    "### Crippled Cheetah"
   ],
   "metadata": {
    "collapsed": false
   },
   "id": "10b17077989b4fe9"
  },
  {
   "cell_type": "code",
   "execution_count": 36,
   "outputs": [],
   "source": [
    "import numpy as np\n",
    "import os\n",
    "import torch\n",
    "from gym import utils\n",
    "from gym.envs.mujoco import mujoco_env\n",
    "\n",
    "class CrippleHalfCheetahEnv(mujoco_env.MujocoEnv, utils.EzPickle):\n",
    "    def __init__(self, cripple_set=None, extreme_set=None):\n",
    "        \"\"\"\n",
    "        If extreme set=[0], neutral\n",
    "        If extreme set=[1], extreme\n",
    "        \"\"\"\n",
    "        self.crippled_joint = None\n",
    "        if extreme_set is None:\n",
    "            extreme_set = [0]\n",
    "        if cripple_set is None:\n",
    "            cripple_set = [0, 1, 2, 3]\n",
    "        self.prev_qpos = None\n",
    "\n",
    "        self.cripple_mask = None\n",
    "\n",
    "        mujoco_env.MujocoEnv.__init__(self, os.path.join(os.path.abspath(''), 'assets', 'half_cheetah.xml'), 5)\n",
    "\n",
    "        self.cripple_mask = np.ones(self.action_space.shape)\n",
    "        self.cripple_set = cripple_set\n",
    "        self.extreme_set = extreme_set\n",
    "\n",
    "        self._init_geom_rgba = self.model.geom_rgba.copy()\n",
    "        self._init_geom_contype = self.model.geom_contype.copy()\n",
    "        self._init_geom_size = self.model.geom_size.copy()\n",
    "        self._init_geom_pos = self.model.geom_pos.copy()\n",
    "\n",
    "        utils.EzPickle.__init__(self, cripple_set, extreme_set)\n",
    "\n",
    "    def _set_observation_space(self, observation):\n",
    "        super(CrippleHalfCheetahEnv, self)._set_observation_space(observation)\n",
    "        proc_observation = self.obs_preproc(observation[None])\n",
    "        self.proc_observation_space_dims = proc_observation.shape[-1]\n",
    "\n",
    "    def step(self, action):\n",
    "        self.prev_qpos = np.copy(self.sim.data.qpos.flat)\n",
    "        if self.cripple_mask is None:\n",
    "            action = action\n",
    "        else:\n",
    "            action = self.cripple_mask * action\n",
    "        self.do_simulation(action, self.frame_skip)\n",
    "        ob = self._get_obs()\n",
    "\n",
    "        reward_ctrl = -0.1  * np.square(action).sum()\n",
    "        reward_run = ob[0]\n",
    "        reward = reward_run + reward_ctrl\n",
    "\n",
    "        done = False\n",
    "        return ob, reward, done, {}\n",
    "\n",
    "    def _get_obs(self):\n",
    "        return np.concatenate([\n",
    "            (self.sim.data.qpos.flat[:1] - self.prev_qpos[:1]) / self.dt,\n",
    "            self.sim.data.qpos.flat[1:],\n",
    "            self.sim.data.qvel.flat,\n",
    "        ])\n",
    "\n",
    "    @staticmethod\n",
    "    def obs_preproc(obs):\n",
    "        if isinstance(obs, np.ndarray):\n",
    "            return np.concatenate([obs[..., 1:2], np.sin(obs[..., 2:3]), np.cos(obs[..., 2:3]), obs[..., 3:]], axis=-1)\n",
    "        else:\n",
    "            return torch.cat([obs[..., 1:2], torch.sin(obs[..., 2:3]), torch.cos(obs[..., 2:3]), obs[..., 3:]], dim=-1)\n",
    "\n",
    "    @staticmethod\n",
    "    def obs_postproc(obs, pred):\n",
    "        if isinstance(obs, np.ndarray):\n",
    "            return np.concatenate([pred[..., :1], obs[..., 1:] + pred[..., 1:]], axis=-1)\n",
    "        else:\n",
    "            return torch.cat([pred[..., :1], obs[..., 1:] + pred[..., 1:]], dim=-1)\n",
    "        \n",
    "    @staticmethod\n",
    "    def targ_proc(self, obs, next_obs):\n",
    "        return np.concatenate([next_obs[..., :1], next_obs[..., 1:] - obs[..., 1:]], axis=-1)\n",
    "\n",
    "    def reset_model(self):\n",
    "        qpos = self.init_qpos + self.np_random.normal(loc=0, scale=0.001, size=self.model.nq)\n",
    "        qvel = self.init_qvel + self.np_random.normal(loc=0, scale=0.001, size=self.model.nv)\n",
    "        self.set_state(qpos, qvel)\n",
    "        self.prev_qpos = np.copy(self.sim.data.qpos.flat)\n",
    "\n",
    "        self.change_env()\n",
    "        return self._get_obs()\n",
    "\n",
    "    @staticmethod\n",
    "    def reward(obs, action, next_obs):\n",
    "        ctrl_cost = 1e-1 * np.sum(np.square(action), axis=-1)\n",
    "        forward_reward = obs[..., 0]\n",
    "        reward = forward_reward - ctrl_cost\n",
    "        return reward\n",
    "    \n",
    "    @staticmethod\n",
    "    def tf_reward_fn():\n",
    "        def _thunk(obs, act, next_obs):\n",
    "            ctrl_cost = 1e-1  * torch.sum(torch.square(act), dim=-1)\n",
    "            forward_reward = obs[..., 0]\n",
    "            reward = forward_reward - ctrl_cost\n",
    "            return reward\n",
    "        return _thunk\n",
    "    \n",
    "    def change_env(self):\n",
    "        action_dim = self.action_space.shape\n",
    "        if self.extreme_set == [0]:\n",
    "            self.crippled_joint = np.array([self.np_random.choice(self.cripple_set)])\n",
    "        elif self.extreme_set == [1]:\n",
    "            self.crippled_joint = self.np_random.choice(self.cripple_set, 2, replace=False)\n",
    "        else:\n",
    "            raise ValueError(self.extreme_set)\n",
    "        self.cripple_mask = np.ones(action_dim)\n",
    "        self.cripple_mask[self.crippled_joint] = 0\n",
    "\n",
    "        geom_rgba = self._init_geom_rgba.copy()\n",
    "        for joint in self.crippled_joint:\n",
    "            geom_idx = self.model.geom_names.index(self.model.joint_names[joint+3])\n",
    "            geom_rgba[geom_idx, :3] = np.array([1, 0, 0])\n",
    "        self.model.geom_rgba[:] = geom_rgba.copy()\n",
    "\n",
    "    def viewer_setup(self):\n",
    "        self.viewer.cam.distance = self.model.stat.extent * 0.25\n",
    "        self.viewer.cam.elevation = -55\n",
    "    \n",
    "    def get_sim_parameters(self):\n",
    "        return np.array([self.cripple_mask])\n",
    "    \n",
    "    @staticmethod\n",
    "    def num_modifiable_parameters():\n",
    "        return 1\n",
    "\n",
    "    def log_diagnostics(self, paths, prefix):\n",
    "        return\n"
   ],
   "metadata": {
    "collapsed": false,
    "ExecuteTime": {
     "end_time": "2023-11-12T15:45:51.863359021Z",
     "start_time": "2023-11-12T15:45:51.805462732Z"
    }
   },
   "id": "3014b17cb7585ea3"
  },
  {
   "cell_type": "markdown",
   "source": [
    "# Evaluation Function"
   ],
   "metadata": {
    "collapsed": false
   },
   "id": "3503c0d33c67d729"
  },
  {
   "cell_type": "code",
   "execution_count": 37,
   "outputs": [],
   "source": [
    "def evaluate_policy(agent_policy, eval_episodes=10,\n",
    "                    render=False, env=halfcheetah_d4rl, \n",
    "                    remove_first_obs=False, convert_jax_to_torch=False,\n",
    "                    seed:int=42) -> pd.DataFrame:\n",
    "    \"\"\"\n",
    "    Evaluate the policy given the agent policy, environment, and other parameters\n",
    "    :param agent_policy: policy of the agent\n",
    "    :param eval_episodes: number of episodes to evaluate\n",
    "    :param render: whether to render the environment    \n",
    "    :param env:  to evaluate the policy\n",
    "    :param remove_first_obs: remove the first obs if it is a CARL environment (redundant obs)\n",
    "    :param convert_jax_to_torch: boolean to convert jax array to torch array\n",
    "    :param seed: seed for reproducibility\n",
    "    :return: dataframe of the evaluation results\n",
    "    \"\"\"\n",
    "    # Set seed\n",
    "    torch.manual_seed(seed)\n",
    "    torch.cuda.manual_seed_all(seed)\n",
    "    np.random.seed(seed)\n",
    "    random.seed(seed)\n",
    "    \n",
    "    # Reset the observations\n",
    "    obs = env.reset(seed=seed)\n",
    "    \n",
    "    # Check if it needs to be converted to torch\n",
    "    if convert_jax_to_torch:\n",
    "        obs = env.reset()[0]['obs'] \n",
    "        obs = jax_to_torch(obs)\n",
    "    # Check if first observation needs to be removed\n",
    "    obs = obs[1:] if remove_first_obs else obs \n",
    "    \n",
    "    # Initiate variables\n",
    "    eval_ep_info_buffer = []\n",
    "    num_episodes = 0\n",
    "    episode_reward = 0\n",
    "    episode_length = 0\n",
    "    \n",
    "    # Iterate through the episodes\n",
    "    with tqdm(total=eval_episodes, dynamic_ncols=True) as pbar:\n",
    "        # Iterate through the episodes until episode length 1000 is reached\n",
    "        while num_episodes < eval_episodes:\n",
    "            # For each episode, reset the reward buffer\n",
    "            reward_buffer = []\n",
    "            # Select action\n",
    "            action = agent_policy.select_action(obs.reshape(1, -1), deterministic=True)\n",
    "            # Take a step\n",
    "            try:\n",
    "                next_obs, reward, done, _ = env.step(action.flatten())\n",
    "            except ValueError as e:\n",
    "                next_obs, reward, done, truncated, _ = env.step(action.flatten())\n",
    "            \n",
    "            # Append reward to reward buffer\n",
    "            reward_buffer.append(reward)\n",
    "            # Update episode reward and episode length\n",
    "            episode_reward += reward\n",
    "            episode_length += 1\n",
    "            # Check if the new obs needs to be converted to torch\n",
    "            if convert_jax_to_torch:\n",
    "                next_obs = next_obs['obs'] \n",
    "                next_obs = jax_to_torch(next_obs)\n",
    "            # Check if first observation needs to be removed\n",
    "            next_obs = next_obs[1:] if remove_first_obs else next_obs\n",
    "            obs = next_obs\n",
    "            \n",
    "            # End the episode if done or episode length is 1000\n",
    "            if done or episode_length == 1000:\n",
    "                eval_ep_info_buffer.append(\n",
    "                    {\"timestep\": num_episodes,\n",
    "                     \"episode_reward\": episode_reward,\n",
    "                     \"normalized_reward\": halfcheetah_d4rl.get_normalized_score(episode_reward) * 100,\n",
    "                     \"episode_length\": episode_length,\n",
    "                     \"mean_reward\": round((episode_reward / episode_length), 2),\n",
    "                     \"std_reward\": np.round(np.std(reward_buffer), 5),\n",
    "                     })\n",
    "                # Increment the number of episodes\n",
    "                num_episodes += 1\n",
    "                # Update the progress bar\n",
    "                pbar.update(1)  \n",
    "                # Reset the episode (rewrite the code)\n",
    "                obs = env.reset()\n",
    "                # Set the seed again\n",
    "                torch.manual_seed(seed)\n",
    "                torch.cuda.manual_seed_all(seed)\n",
    "                np.random.seed(seed)\n",
    "                random.seed(seed)\n",
    "                # Check if it needs to be converted to torch\n",
    "                if convert_jax_to_torch:\n",
    "                    obs = env.reset()[0]['obs'] \n",
    "                    obs = jax_to_torch(obs)\n",
    "                # Check if first observation needs to be removed\n",
    "                obs = obs[1:] if remove_first_obs else obs \n",
    "                # Reset the episode reward and episode length\n",
    "                episode_reward, episode_length = 0, 0\n",
    "            \n",
    "            if render:\n",
    "                env.render()\n",
    "    # Convert the result buffer to a dataframe\n",
    "    result_df = pd.DataFrame(eval_ep_info_buffer)\n",
    "    return result_df"
   ],
   "metadata": {
    "collapsed": false,
    "ExecuteTime": {
     "end_time": "2023-11-12T15:45:51.871693762Z",
     "start_time": "2023-11-12T15:45:51.846263004Z"
    }
   },
   "id": "1318bb009d4736b"
  },
  {
   "cell_type": "markdown",
   "source": [
    "# Test"
   ],
   "metadata": {
    "collapsed": false
   },
   "id": "198ade5f97abb54"
  },
  {
   "cell_type": "markdown",
   "source": [
    "## Plotting function"
   ],
   "metadata": {
    "collapsed": false
   },
   "id": "4617b786ecacc673"
  },
  {
   "cell_type": "code",
   "execution_count": 38,
   "outputs": [],
   "source": [
    "def plotter(result_df, title, save_path=None):\n",
    "    plt.figure(figsize=(10, 5))\n",
    "    plt.plot(result_df['timestep'], result_df['normalized_reward'])\n",
    "    plt.xlabel('Timestep')\n",
    "    plt.ylabel('Normalized reward')\n",
    "    plt.title(title)\n",
    "    if save_path is not None:\n",
    "        plt.savefig(save_path)\n",
    "    plt.show()"
   ],
   "metadata": {
    "collapsed": false,
    "ExecuteTime": {
     "end_time": "2023-11-12T15:45:51.871926504Z",
     "start_time": "2023-11-12T15:45:51.846376717Z"
    }
   },
   "id": "99a2462f0ba0b477"
  },
  {
   "cell_type": "code",
   "execution_count": 39,
   "outputs": [
    {
     "name": "stderr",
     "output_type": "stream",
     "text": [
      "100%|██████████| 10/10 [00:12<00:00,  1.22s/it]\n"
     ]
    },
    {
     "data": {
      "text/plain": "<Figure size 1000x500 with 1 Axes>",
      "image/png": "[encoded data removed]"
     },
     "metadata": {},
     "output_type": "display_data"
    }
   ],
   "source": [
    "mod_result = evaluate_policy(mopo_policy, eval_episodes=10, render=False, env=modified_cheetah, remove_first_obs=False, convert_jax_to_torch=True)\n",
    "plotter(mod_result, 'CARL cheetah', save_path='/home/pradyutnair/Documents/Thesis/CARL/log/halfcheetah-medium-v2/mopo/modified_cheetah.png')"
   ],
   "metadata": {
    "collapsed": false,
    "ExecuteTime": {
     "end_time": "2023-11-12T15:46:04.236441557Z",
     "start_time": "2023-11-12T15:45:51.846428915Z"
    }
   },
   "id": "faa8b80dffa3224c"
  },
  {
   "cell_type": "code",
   "execution_count": 40,
   "outputs": [
    {
     "name": "stderr",
     "output_type": "stream",
     "text": [
      "100%|██████████| 10/10 [00:05<00:00,  1.94it/s]\n"
     ]
    },
    {
     "data": {
      "text/plain": "<Figure size 1000x500 with 1 Axes>",
      "image/png": "[encoded data removed]"
     },
     "metadata": {},
     "output_type": "display_data"
    }
   ],
   "source": [
    "result = evaluate_policy(mopo_policy, eval_episodes=10,\n",
    "                          render=False, env=halfcheetah_d4rl, remove_first_obs=False)\n",
    "plotter(result, 'Halfcheetah', save_path='/home/pradyutnair/Documents/Thesis/CARL/log/halfcheetah-medium-v2/mopo/halfcheetah.png')"
   ],
   "metadata": {
    "collapsed": false,
    "ExecuteTime": {
     "end_time": "2023-11-12T15:46:09.528085665Z",
     "start_time": "2023-11-12T15:46:04.226405281Z"
    }
   },
   "id": "8008e67cc21783cd"
  },
  {
   "cell_type": "code",
   "execution_count": 41,
   "outputs": [],
   "source": [
    "# result = policy_trainer._evaluate()"
   ],
   "metadata": {
    "collapsed": false,
    "ExecuteTime": {
     "end_time": "2023-11-12T15:46:09.528246748Z",
     "start_time": "2023-11-12T15:46:09.526485331Z"
    }
   },
   "id": "2e85b039748d6507"
  },
  {
   "cell_type": "code",
   "execution_count": 42,
   "outputs": [],
   "source": [
    "# result.keys()"
   ],
   "metadata": {
    "collapsed": false,
    "ExecuteTime": {
     "end_time": "2023-11-12T15:46:09.543090393Z",
     "start_time": "2023-11-12T15:46:09.528778318Z"
    }
   },
   "id": "4063b1eae5a34317"
  },
  {
   "cell_type": "code",
   "execution_count": 43,
   "outputs": [],
   "source": [
    "# plt.plot(np.arange(len(result['eval/episode_reward'])), result['eval/episode_reward'])"
   ],
   "metadata": {
    "collapsed": false,
    "ExecuteTime": {
     "end_time": "2023-11-12T15:46:09.543334293Z",
     "start_time": "2023-11-12T15:46:09.535073699Z"
    }
   },
   "id": "af22d607610b8fe7"
  },
  {
   "cell_type": "markdown",
   "source": [
    "### Cripple cheetah test"
   ],
   "metadata": {
    "collapsed": false
   },
   "id": "96fdeb9c6f0fc70b"
  },
  {
   "cell_type": "code",
   "execution_count": 44,
   "outputs": [
    {
     "name": "stderr",
     "output_type": "stream",
     "text": [
      "100%|██████████| 10/10 [00:04<00:00,  2.03it/s]\n"
     ]
    }
   ],
   "source": [
    "crippled_cheetah = CrippleHalfCheetahEnv()\n",
    "# obs = crippled_cheetah.reset()[1:]\n",
    "# # n_test = 0\n",
    "# # total_reward_list = []\n",
    "# mopo_policy.select_action(obs)\n",
    "crip_result = evaluate_policy(mopo_policy, eval_episodes=10, render=False, env=crippled_cheetah, remove_first_obs=True)"
   ],
   "metadata": {
    "collapsed": false,
    "ExecuteTime": {
     "end_time": "2023-11-12T15:46:14.468294322Z",
     "start_time": "2023-11-12T15:46:09.578096277Z"
    }
   },
   "id": "a398bb5a9a80383e"
  },
  {
   "cell_type": "code",
   "execution_count": 45,
   "outputs": [
    {
     "data": {
      "text/plain": "<Figure size 1000x500 with 1 Axes>",
      "image/png": "[encoded data removed]"
     },
     "metadata": {},
     "output_type": "display_data"
    }
   ],
   "source": [
    "plotter(crip_result, 'Crippled cheetah', save_path='/home/pradyutnair/Documents/Thesis/CARL/log/halfcheetah-medium-v2/mopo/crippled_cheetah.png')"
   ],
   "metadata": {
    "collapsed": false,
    "ExecuteTime": {
     "end_time": "2023-11-12T15:46:14.604595491Z",
     "start_time": "2023-11-12T15:46:14.472666394Z"
    }
   },
   "id": "a2ccb0cd570881cf"
  },
  {
   "cell_type": "markdown",
   "source": [
    "# Benchmark"
   ],
   "metadata": {
    "collapsed": false
   },
   "id": "d48a75a8f73e3c8"
  },
  {
   "cell_type": "markdown",
   "source": [
    "```\n",
    "for s in seed:\n",
    "    for d in dataset:\n",
    "        for p in policy:\n",
    "            <evaluate policy p on dataset d (set with seed s)>\n",
    "             <save results>\n",
    "```python"
   ],
   "metadata": {
    "collapsed": false
   },
   "id": "5192f4a6b149e0ec"
  },
  {
   "cell_type": "code",
   "execution_count": 59,
   "outputs": [],
   "source": [
    "import os\n",
    "from itertools import product\n",
    "from tqdm import tqdm\n",
    "import datetime\n",
    "\n",
    "def benchmark(datasets, policies, seeds, save_dir, eval_episodes: int = 10):\n",
    "    timestamp = datetime.datetime.now().strftime(\"%d_%m%_y_%H%M%S\")\n",
    "\n",
    "    for dataset_key, dataset_value in datasets.items():\n",
    "        for policy_key, policy_value in policies.items():\n",
    "            for seed in seeds:\n",
    "                print(f\"Running policy {policy_key.upper()} on dataset {dataset_key} with seed {seed}\")\n",
    "                # Check if dataset is a CARL environment\n",
    "                if type(dataset_value.reset()) != np.ndarray:\n",
    "                    convert_jax_to_torch = True\n",
    "                else:\n",
    "                    convert_jax_to_torch = False\n",
    "                if dataset_key == \"crippled_cheetah\":\n",
    "                    remove_first_obs = True\n",
    "                else:\n",
    "                    remove_first_obs = False\n",
    "                # Evaluate policy on dataset with seed\n",
    "                result_df = evaluate_policy(agent_policy=policy_value, eval_episodes=eval_episodes, env=dataset_value,\n",
    "                                            convert_jax_to_torch=convert_jax_to_torch,\n",
    "                                            remove_first_obs=remove_first_obs, seed=seed)\n",
    "\n",
    "                # Create directory for saving results where the root directory is the timestamp\n",
    "                timestamp_dir = os.path.join(save_dir, timestamp)\n",
    "                policy_dir = os.path.join(timestamp_dir, policy_key)\n",
    "                seed_dir = os.path.join(policy_dir, f\"seed_{seed}\")\n",
    "                dataset_dir = os.path.join(seed_dir, dataset_key)\n",
    "                os.makedirs(dataset_dir, exist_ok=True)\n",
    "                print(f\"Saving results to {dataset_dir}\")\n",
    "                # Save results as CSV file\n",
    "                result_file = os.path.join(dataset_dir, \"results.csv\")\n",
    "                result_df.to_csv(result_file, index=False)\n",
    "    print(\"Benchmarking completed successfully!\")\n"
   ],
   "metadata": {
    "collapsed": false,
    "ExecuteTime": {
     "end_time": "2023-11-12T15:52:16.656131917Z",
     "start_time": "2023-11-12T15:52:16.612395716Z"
    }
   },
   "id": "9d114d06ed485fa"
  },
  {
   "cell_type": "code",
   "execution_count": 60,
   "outputs": [
    {
     "name": "stdout",
     "output_type": "stream",
     "text": [
      "Running policy MOPO on dataset halfcheetah-medium-v2 with seed 1\n"
     ]
    },
    {
     "name": "stderr",
     "output_type": "stream",
     "text": [
      "100%|██████████| 1/1 [00:00<00:00,  1.73it/s]\n"
     ]
    },
    {
     "name": "stdout",
     "output_type": "stream",
     "text": [
      "Saving results to /home/pradyutnair/Documents/Thesis/CARL/eval_results/12_1123_165220/mopo/seed_1/halfcheetah-medium-v2\n",
      "Running policy MOPO on dataset halfcheetah-medium-v2 with seed 2\n"
     ]
    },
    {
     "name": "stderr",
     "output_type": "stream",
     "text": [
      "100%|██████████| 1/1 [00:00<00:00,  1.68it/s]\n"
     ]
    },
    {
     "name": "stdout",
     "output_type": "stream",
     "text": [
      "Saving results to /home/pradyutnair/Documents/Thesis/CARL/eval_results/12_1123_165220/mopo/seed_2/halfcheetah-medium-v2\n",
      "Running policy MOPO on dataset halfcheetah-medium-v2 with seed 3\n"
     ]
    },
    {
     "name": "stderr",
     "output_type": "stream",
     "text": [
      "100%|██████████| 1/1 [00:00<00:00,  1.49it/s]\n"
     ]
    },
    {
     "name": "stdout",
     "output_type": "stream",
     "text": [
      "Saving results to /home/pradyutnair/Documents/Thesis/CARL/eval_results/12_1123_165220/mopo/seed_3/halfcheetah-medium-v2\n",
      "Running policy COMBO on dataset halfcheetah-medium-v2 with seed 1\n"
     ]
    },
    {
     "name": "stderr",
     "output_type": "stream",
     "text": [
      "100%|██████████| 1/1 [00:00<00:00,  1.60it/s]\n"
     ]
    },
    {
     "name": "stdout",
     "output_type": "stream",
     "text": [
      "Saving results to /home/pradyutnair/Documents/Thesis/CARL/eval_results/12_1123_165220/combo/seed_1/halfcheetah-medium-v2\n",
      "Running policy COMBO on dataset halfcheetah-medium-v2 with seed 2\n"
     ]
    },
    {
     "name": "stderr",
     "output_type": "stream",
     "text": [
      "100%|██████████| 1/1 [00:00<00:00,  1.54it/s]\n"
     ]
    },
    {
     "name": "stdout",
     "output_type": "stream",
     "text": [
      "Saving results to /home/pradyutnair/Documents/Thesis/CARL/eval_results/12_1123_165220/combo/seed_2/halfcheetah-medium-v2\n",
      "Running policy COMBO on dataset halfcheetah-medium-v2 with seed 3\n"
     ]
    },
    {
     "name": "stderr",
     "output_type": "stream",
     "text": [
      "100%|██████████| 1/1 [00:00<00:00,  1.82it/s]\n"
     ]
    },
    {
     "name": "stdout",
     "output_type": "stream",
     "text": [
      "Saving results to /home/pradyutnair/Documents/Thesis/CARL/eval_results/12_1123_165220/combo/seed_3/halfcheetah-medium-v2\n",
      "Running policy MOPO on dataset modified_cheetah with seed 1\n"
     ]
    },
    {
     "name": "stderr",
     "output_type": "stream",
     "text": [
      "100%|██████████| 1/1 [00:00<00:00,  1.32it/s]\n"
     ]
    },
    {
     "name": "stdout",
     "output_type": "stream",
     "text": [
      "Saving results to /home/pradyutnair/Documents/Thesis/CARL/eval_results/12_1123_165220/mopo/seed_1/modified_cheetah\n",
      "Running policy MOPO on dataset modified_cheetah with seed 2\n"
     ]
    },
    {
     "name": "stderr",
     "output_type": "stream",
     "text": [
      "100%|██████████| 1/1 [00:00<00:00,  1.46it/s]\n"
     ]
    },
    {
     "name": "stdout",
     "output_type": "stream",
     "text": [
      "Saving results to /home/pradyutnair/Documents/Thesis/CARL/eval_results/12_1123_165220/mopo/seed_2/modified_cheetah\n",
      "Running policy MOPO on dataset modified_cheetah with seed 3\n"
     ]
    },
    {
     "name": "stderr",
     "output_type": "stream",
     "text": [
      "100%|██████████| 1/1 [00:00<00:00,  1.49it/s]\n"
     ]
    },
    {
     "name": "stdout",
     "output_type": "stream",
     "text": [
      "Saving results to /home/pradyutnair/Documents/Thesis/CARL/eval_results/12_1123_165220/mopo/seed_3/modified_cheetah\n",
      "Running policy COMBO on dataset modified_cheetah with seed 1\n"
     ]
    },
    {
     "name": "stderr",
     "output_type": "stream",
     "text": [
      "100%|██████████| 1/1 [00:00<00:00,  1.42it/s]\n"
     ]
    },
    {
     "name": "stdout",
     "output_type": "stream",
     "text": [
      "Saving results to /home/pradyutnair/Documents/Thesis/CARL/eval_results/12_1123_165220/combo/seed_1/modified_cheetah\n",
      "Running policy COMBO on dataset modified_cheetah with seed 2\n"
     ]
    },
    {
     "name": "stderr",
     "output_type": "stream",
     "text": [
      "100%|██████████| 1/1 [00:00<00:00,  1.28it/s]\n"
     ]
    },
    {
     "name": "stdout",
     "output_type": "stream",
     "text": [
      "Saving results to /home/pradyutnair/Documents/Thesis/CARL/eval_results/12_1123_165220/combo/seed_2/modified_cheetah\n",
      "Running policy COMBO on dataset modified_cheetah with seed 3\n"
     ]
    },
    {
     "name": "stderr",
     "output_type": "stream",
     "text": [
      "100%|██████████| 1/1 [00:00<00:00,  1.33it/s]\n"
     ]
    },
    {
     "name": "stdout",
     "output_type": "stream",
     "text": [
      "Saving results to /home/pradyutnair/Documents/Thesis/CARL/eval_results/12_1123_165220/combo/seed_3/modified_cheetah\n",
      "Running policy MOPO on dataset crippled_cheetah with seed 1\n"
     ]
    },
    {
     "name": "stderr",
     "output_type": "stream",
     "text": [
      "100%|██████████| 1/1 [00:00<00:00,  1.90it/s]\n"
     ]
    },
    {
     "name": "stdout",
     "output_type": "stream",
     "text": [
      "Saving results to /home/pradyutnair/Documents/Thesis/CARL/eval_results/12_1123_165220/mopo/seed_1/crippled_cheetah\n",
      "Running policy MOPO on dataset crippled_cheetah with seed 2\n"
     ]
    },
    {
     "name": "stderr",
     "output_type": "stream",
     "text": [
      "100%|██████████| 1/1 [00:00<00:00,  1.98it/s]\n"
     ]
    },
    {
     "name": "stdout",
     "output_type": "stream",
     "text": [
      "Saving results to /home/pradyutnair/Documents/Thesis/CARL/eval_results/12_1123_165220/mopo/seed_2/crippled_cheetah\n",
      "Running policy MOPO on dataset crippled_cheetah with seed 3\n"
     ]
    },
    {
     "name": "stderr",
     "output_type": "stream",
     "text": [
      "100%|██████████| 1/1 [00:00<00:00,  2.12it/s]\n"
     ]
    },
    {
     "name": "stdout",
     "output_type": "stream",
     "text": [
      "Saving results to /home/pradyutnair/Documents/Thesis/CARL/eval_results/12_1123_165220/mopo/seed_3/crippled_cheetah\n",
      "Running policy COMBO on dataset crippled_cheetah with seed 1\n"
     ]
    },
    {
     "name": "stderr",
     "output_type": "stream",
     "text": [
      "  0%|          | 0/1 [00:00<?, ?it/s]\n"
     ]
    },
    {
     "ename": "KeyboardInterrupt",
     "evalue": "",
     "output_type": "error",
     "traceback": [
      "\u001B[0;31m---------------------------------------------------------------------------\u001B[0m",
      "\u001B[0;31mKeyboardInterrupt\u001B[0m                         Traceback (most recent call last)",
      "Cell \u001B[0;32mIn[60], line 12\u001B[0m\n\u001B[1;32m     10\u001B[0m seeds \u001B[38;5;241m=\u001B[39m [\u001B[38;5;241m1\u001B[39m, \u001B[38;5;241m2\u001B[39m, \u001B[38;5;241m3\u001B[39m]\n\u001B[1;32m     11\u001B[0m save_dir \u001B[38;5;241m=\u001B[39m \u001B[38;5;124m\"\u001B[39m\u001B[38;5;124m/home/pradyutnair/Documents/Thesis/CARL/eval_results\u001B[39m\u001B[38;5;124m\"\u001B[39m\n\u001B[0;32m---> 12\u001B[0m \u001B[43mbenchmark\u001B[49m\u001B[43m(\u001B[49m\u001B[43mdatasets\u001B[49m\u001B[43m,\u001B[49m\u001B[43m \u001B[49m\u001B[43mpolicies\u001B[49m\u001B[43m,\u001B[49m\u001B[43m \u001B[49m\u001B[43mseeds\u001B[49m\u001B[43m,\u001B[49m\u001B[43m \u001B[49m\u001B[43msave_dir\u001B[49m\u001B[43m,\u001B[49m\u001B[43m \u001B[49m\u001B[43meval_episodes\u001B[49m\u001B[38;5;241;43m=\u001B[39;49m\u001B[38;5;241;43m1\u001B[39;49m\u001B[43m)\u001B[49m\n",
      "Cell \u001B[0;32mIn[59], line 23\u001B[0m, in \u001B[0;36mbenchmark\u001B[0;34m(datasets, policies, seeds, save_dir, eval_episodes)\u001B[0m\n\u001B[1;32m     21\u001B[0m     remove_first_obs \u001B[38;5;241m=\u001B[39m \u001B[38;5;28;01mFalse\u001B[39;00m\n\u001B[1;32m     22\u001B[0m \u001B[38;5;66;03m# Evaluate policy on dataset with seed\u001B[39;00m\n\u001B[0;32m---> 23\u001B[0m result_df \u001B[38;5;241m=\u001B[39m \u001B[43mevaluate_policy\u001B[49m\u001B[43m(\u001B[49m\u001B[43magent_policy\u001B[49m\u001B[38;5;241;43m=\u001B[39;49m\u001B[43mpolicy_value\u001B[49m\u001B[43m,\u001B[49m\u001B[43m \u001B[49m\u001B[43meval_episodes\u001B[49m\u001B[38;5;241;43m=\u001B[39;49m\u001B[43meval_episodes\u001B[49m\u001B[43m,\u001B[49m\u001B[43m \u001B[49m\u001B[43menv\u001B[49m\u001B[38;5;241;43m=\u001B[39;49m\u001B[43mdataset_value\u001B[49m\u001B[43m,\u001B[49m\n\u001B[1;32m     24\u001B[0m \u001B[43m  \u001B[49m\u001B[43mconvert_jax_to_torch\u001B[49m\u001B[38;5;241;43m=\u001B[39;49m\u001B[43mconvert_jax_to_torch\u001B[49m\u001B[43m,\u001B[49m\u001B[43m \u001B[49m\u001B[43mremove_first_obs\u001B[49m\u001B[38;5;241;43m=\u001B[39;49m\u001B[43mremove_first_obs\u001B[49m\u001B[43m,\u001B[49m\u001B[43m \u001B[49m\u001B[43mseed\u001B[49m\u001B[38;5;241;43m=\u001B[39;49m\u001B[43mseed\u001B[49m\u001B[43m)\u001B[49m\n\u001B[1;32m     26\u001B[0m \u001B[38;5;66;03m# Create directory for saving results where the root directory is the timestamp\u001B[39;00m\n\u001B[1;32m     27\u001B[0m timestamp_dir \u001B[38;5;241m=\u001B[39m os\u001B[38;5;241m.\u001B[39mpath\u001B[38;5;241m.\u001B[39mjoin(save_dir, timestamp)\n",
      "Cell \u001B[0;32mIn[37], line 45\u001B[0m, in \u001B[0;36mevaluate_policy\u001B[0;34m(agent_policy, eval_episodes, render, env, remove_first_obs, convert_jax_to_torch, seed)\u001B[0m\n\u001B[1;32m     43\u001B[0m reward_buffer \u001B[38;5;241m=\u001B[39m []\n\u001B[1;32m     44\u001B[0m \u001B[38;5;66;03m# Select action\u001B[39;00m\n\u001B[0;32m---> 45\u001B[0m action \u001B[38;5;241m=\u001B[39m \u001B[43magent_policy\u001B[49m\u001B[38;5;241;43m.\u001B[39;49m\u001B[43mselect_action\u001B[49m\u001B[43m(\u001B[49m\u001B[43mobs\u001B[49m\u001B[38;5;241;43m.\u001B[39;49m\u001B[43mreshape\u001B[49m\u001B[43m(\u001B[49m\u001B[38;5;241;43m1\u001B[39;49m\u001B[43m,\u001B[49m\u001B[43m \u001B[49m\u001B[38;5;241;43m-\u001B[39;49m\u001B[38;5;241;43m1\u001B[39;49m\u001B[43m)\u001B[49m\u001B[43m,\u001B[49m\u001B[43m \u001B[49m\u001B[43mdeterministic\u001B[49m\u001B[38;5;241;43m=\u001B[39;49m\u001B[38;5;28;43;01mTrue\u001B[39;49;00m\u001B[43m)\u001B[49m\n\u001B[1;32m     46\u001B[0m \u001B[38;5;66;03m# Take a step\u001B[39;00m\n\u001B[1;32m     47\u001B[0m \u001B[38;5;28;01mtry\u001B[39;00m:\n",
      "File \u001B[0;32m~/Documents/Thesis/OfflineRL-Kit/offlinerlkit/policy/model_free/sac.py:85\u001B[0m, in \u001B[0;36mSACPolicy.select_action\u001B[0;34m(self, obs, deterministic)\u001B[0m\n\u001B[1;32m     79\u001B[0m \u001B[38;5;28;01mdef\u001B[39;00m \u001B[38;5;21mselect_action\u001B[39m(\n\u001B[1;32m     80\u001B[0m     \u001B[38;5;28mself\u001B[39m,\n\u001B[1;32m     81\u001B[0m     obs: np\u001B[38;5;241m.\u001B[39mndarray,\n\u001B[1;32m     82\u001B[0m     deterministic: \u001B[38;5;28mbool\u001B[39m \u001B[38;5;241m=\u001B[39m \u001B[38;5;28;01mFalse\u001B[39;00m\n\u001B[1;32m     83\u001B[0m ) \u001B[38;5;241m-\u001B[39m\u001B[38;5;241m>\u001B[39m np\u001B[38;5;241m.\u001B[39mndarray:\n\u001B[1;32m     84\u001B[0m     \u001B[38;5;28;01mwith\u001B[39;00m torch\u001B[38;5;241m.\u001B[39mno_grad():\n\u001B[0;32m---> 85\u001B[0m         action, _ \u001B[38;5;241m=\u001B[39m \u001B[38;5;28;43mself\u001B[39;49m\u001B[38;5;241;43m.\u001B[39;49m\u001B[43mactforward\u001B[49m\u001B[43m(\u001B[49m\u001B[43mobs\u001B[49m\u001B[43m,\u001B[49m\u001B[43m \u001B[49m\u001B[43mdeterministic\u001B[49m\u001B[43m)\u001B[49m\n\u001B[1;32m     86\u001B[0m     \u001B[38;5;28;01mreturn\u001B[39;00m action\u001B[38;5;241m.\u001B[39mcpu()\u001B[38;5;241m.\u001B[39mnumpy()\n",
      "File \u001B[0;32m~/Documents/Thesis/OfflineRL-Kit/offlinerlkit/policy/model_free/sac.py:71\u001B[0m, in \u001B[0;36mSACPolicy.actforward\u001B[0;34m(self, obs, deterministic)\u001B[0m\n\u001B[1;32m     66\u001B[0m \u001B[38;5;28;01mdef\u001B[39;00m \u001B[38;5;21mactforward\u001B[39m(\n\u001B[1;32m     67\u001B[0m     \u001B[38;5;28mself\u001B[39m,\n\u001B[1;32m     68\u001B[0m     obs: torch\u001B[38;5;241m.\u001B[39mTensor,\n\u001B[1;32m     69\u001B[0m     deterministic: \u001B[38;5;28mbool\u001B[39m \u001B[38;5;241m=\u001B[39m \u001B[38;5;28;01mFalse\u001B[39;00m\n\u001B[1;32m     70\u001B[0m ) \u001B[38;5;241m-\u001B[39m\u001B[38;5;241m>\u001B[39m Tuple[torch\u001B[38;5;241m.\u001B[39mTensor, torch\u001B[38;5;241m.\u001B[39mTensor]:\n\u001B[0;32m---> 71\u001B[0m     dist \u001B[38;5;241m=\u001B[39m \u001B[38;5;28;43mself\u001B[39;49m\u001B[38;5;241;43m.\u001B[39;49m\u001B[43mactor\u001B[49m\u001B[43m(\u001B[49m\u001B[43mobs\u001B[49m\u001B[43m)\u001B[49m\n\u001B[1;32m     72\u001B[0m     \u001B[38;5;28;01mif\u001B[39;00m deterministic:\n\u001B[1;32m     73\u001B[0m         squashed_action, raw_action \u001B[38;5;241m=\u001B[39m dist\u001B[38;5;241m.\u001B[39mmode()\n",
      "File \u001B[0;32m~/miniconda3/envs/hope/lib/python3.9/site-packages/torch/nn/modules/module.py:1518\u001B[0m, in \u001B[0;36mModule._wrapped_call_impl\u001B[0;34m(self, *args, **kwargs)\u001B[0m\n\u001B[1;32m   1516\u001B[0m     \u001B[38;5;28;01mreturn\u001B[39;00m \u001B[38;5;28mself\u001B[39m\u001B[38;5;241m.\u001B[39m_compiled_call_impl(\u001B[38;5;241m*\u001B[39margs, \u001B[38;5;241m*\u001B[39m\u001B[38;5;241m*\u001B[39mkwargs)  \u001B[38;5;66;03m# type: ignore[misc]\u001B[39;00m\n\u001B[1;32m   1517\u001B[0m \u001B[38;5;28;01melse\u001B[39;00m:\n\u001B[0;32m-> 1518\u001B[0m     \u001B[38;5;28;01mreturn\u001B[39;00m \u001B[38;5;28;43mself\u001B[39;49m\u001B[38;5;241;43m.\u001B[39;49m\u001B[43m_call_impl\u001B[49m\u001B[43m(\u001B[49m\u001B[38;5;241;43m*\u001B[39;49m\u001B[43margs\u001B[49m\u001B[43m,\u001B[49m\u001B[43m \u001B[49m\u001B[38;5;241;43m*\u001B[39;49m\u001B[38;5;241;43m*\u001B[39;49m\u001B[43mkwargs\u001B[49m\u001B[43m)\u001B[49m\n",
      "File \u001B[0;32m~/miniconda3/envs/hope/lib/python3.9/site-packages/torch/nn/modules/module.py:1527\u001B[0m, in \u001B[0;36mModule._call_impl\u001B[0;34m(self, *args, **kwargs)\u001B[0m\n\u001B[1;32m   1522\u001B[0m \u001B[38;5;66;03m# If we don't have any hooks, we want to skip the rest of the logic in\u001B[39;00m\n\u001B[1;32m   1523\u001B[0m \u001B[38;5;66;03m# this function, and just call forward.\u001B[39;00m\n\u001B[1;32m   1524\u001B[0m \u001B[38;5;28;01mif\u001B[39;00m \u001B[38;5;129;01mnot\u001B[39;00m (\u001B[38;5;28mself\u001B[39m\u001B[38;5;241m.\u001B[39m_backward_hooks \u001B[38;5;129;01mor\u001B[39;00m \u001B[38;5;28mself\u001B[39m\u001B[38;5;241m.\u001B[39m_backward_pre_hooks \u001B[38;5;129;01mor\u001B[39;00m \u001B[38;5;28mself\u001B[39m\u001B[38;5;241m.\u001B[39m_forward_hooks \u001B[38;5;129;01mor\u001B[39;00m \u001B[38;5;28mself\u001B[39m\u001B[38;5;241m.\u001B[39m_forward_pre_hooks\n\u001B[1;32m   1525\u001B[0m         \u001B[38;5;129;01mor\u001B[39;00m _global_backward_pre_hooks \u001B[38;5;129;01mor\u001B[39;00m _global_backward_hooks\n\u001B[1;32m   1526\u001B[0m         \u001B[38;5;129;01mor\u001B[39;00m _global_forward_hooks \u001B[38;5;129;01mor\u001B[39;00m _global_forward_pre_hooks):\n\u001B[0;32m-> 1527\u001B[0m     \u001B[38;5;28;01mreturn\u001B[39;00m \u001B[43mforward_call\u001B[49m\u001B[43m(\u001B[49m\u001B[38;5;241;43m*\u001B[39;49m\u001B[43margs\u001B[49m\u001B[43m,\u001B[49m\u001B[43m \u001B[49m\u001B[38;5;241;43m*\u001B[39;49m\u001B[38;5;241;43m*\u001B[39;49m\u001B[43mkwargs\u001B[49m\u001B[43m)\u001B[49m\n\u001B[1;32m   1529\u001B[0m \u001B[38;5;28;01mtry\u001B[39;00m:\n\u001B[1;32m   1530\u001B[0m     result \u001B[38;5;241m=\u001B[39m \u001B[38;5;28;01mNone\u001B[39;00m\n",
      "File \u001B[0;32m~/Documents/Thesis/OfflineRL-Kit/offlinerlkit/modules/actor_module.py:24\u001B[0m, in \u001B[0;36mActorProb.forward\u001B[0;34m(self, obs)\u001B[0m\n\u001B[1;32m     22\u001B[0m \u001B[38;5;28;01mdef\u001B[39;00m \u001B[38;5;21mforward\u001B[39m(\u001B[38;5;28mself\u001B[39m, obs: Union[np\u001B[38;5;241m.\u001B[39mndarray, torch\u001B[38;5;241m.\u001B[39mTensor]) \u001B[38;5;241m-\u001B[39m\u001B[38;5;241m>\u001B[39m torch\u001B[38;5;241m.\u001B[39mdistributions\u001B[38;5;241m.\u001B[39mNormal:\n\u001B[1;32m     23\u001B[0m     obs \u001B[38;5;241m=\u001B[39m torch\u001B[38;5;241m.\u001B[39mas_tensor(obs, device\u001B[38;5;241m=\u001B[39m\u001B[38;5;28mself\u001B[39m\u001B[38;5;241m.\u001B[39mdevice, dtype\u001B[38;5;241m=\u001B[39mtorch\u001B[38;5;241m.\u001B[39mfloat32)\n\u001B[0;32m---> 24\u001B[0m     logits \u001B[38;5;241m=\u001B[39m \u001B[38;5;28;43mself\u001B[39;49m\u001B[38;5;241;43m.\u001B[39;49m\u001B[43mbackbone\u001B[49m\u001B[43m(\u001B[49m\u001B[43mobs\u001B[49m\u001B[43m)\u001B[49m\n\u001B[1;32m     25\u001B[0m     dist \u001B[38;5;241m=\u001B[39m \u001B[38;5;28mself\u001B[39m\u001B[38;5;241m.\u001B[39mdist_net(logits)\n\u001B[1;32m     26\u001B[0m     \u001B[38;5;28;01mreturn\u001B[39;00m dist\n",
      "File \u001B[0;32m~/miniconda3/envs/hope/lib/python3.9/site-packages/torch/nn/modules/module.py:1518\u001B[0m, in \u001B[0;36mModule._wrapped_call_impl\u001B[0;34m(self, *args, **kwargs)\u001B[0m\n\u001B[1;32m   1516\u001B[0m     \u001B[38;5;28;01mreturn\u001B[39;00m \u001B[38;5;28mself\u001B[39m\u001B[38;5;241m.\u001B[39m_compiled_call_impl(\u001B[38;5;241m*\u001B[39margs, \u001B[38;5;241m*\u001B[39m\u001B[38;5;241m*\u001B[39mkwargs)  \u001B[38;5;66;03m# type: ignore[misc]\u001B[39;00m\n\u001B[1;32m   1517\u001B[0m \u001B[38;5;28;01melse\u001B[39;00m:\n\u001B[0;32m-> 1518\u001B[0m     \u001B[38;5;28;01mreturn\u001B[39;00m \u001B[38;5;28;43mself\u001B[39;49m\u001B[38;5;241;43m.\u001B[39;49m\u001B[43m_call_impl\u001B[49m\u001B[43m(\u001B[49m\u001B[38;5;241;43m*\u001B[39;49m\u001B[43margs\u001B[49m\u001B[43m,\u001B[49m\u001B[43m \u001B[49m\u001B[38;5;241;43m*\u001B[39;49m\u001B[38;5;241;43m*\u001B[39;49m\u001B[43mkwargs\u001B[49m\u001B[43m)\u001B[49m\n",
      "File \u001B[0;32m~/miniconda3/envs/hope/lib/python3.9/site-packages/torch/nn/modules/module.py:1527\u001B[0m, in \u001B[0;36mModule._call_impl\u001B[0;34m(self, *args, **kwargs)\u001B[0m\n\u001B[1;32m   1522\u001B[0m \u001B[38;5;66;03m# If we don't have any hooks, we want to skip the rest of the logic in\u001B[39;00m\n\u001B[1;32m   1523\u001B[0m \u001B[38;5;66;03m# this function, and just call forward.\u001B[39;00m\n\u001B[1;32m   1524\u001B[0m \u001B[38;5;28;01mif\u001B[39;00m \u001B[38;5;129;01mnot\u001B[39;00m (\u001B[38;5;28mself\u001B[39m\u001B[38;5;241m.\u001B[39m_backward_hooks \u001B[38;5;129;01mor\u001B[39;00m \u001B[38;5;28mself\u001B[39m\u001B[38;5;241m.\u001B[39m_backward_pre_hooks \u001B[38;5;129;01mor\u001B[39;00m \u001B[38;5;28mself\u001B[39m\u001B[38;5;241m.\u001B[39m_forward_hooks \u001B[38;5;129;01mor\u001B[39;00m \u001B[38;5;28mself\u001B[39m\u001B[38;5;241m.\u001B[39m_forward_pre_hooks\n\u001B[1;32m   1525\u001B[0m         \u001B[38;5;129;01mor\u001B[39;00m _global_backward_pre_hooks \u001B[38;5;129;01mor\u001B[39;00m _global_backward_hooks\n\u001B[1;32m   1526\u001B[0m         \u001B[38;5;129;01mor\u001B[39;00m _global_forward_hooks \u001B[38;5;129;01mor\u001B[39;00m _global_forward_pre_hooks):\n\u001B[0;32m-> 1527\u001B[0m     \u001B[38;5;28;01mreturn\u001B[39;00m \u001B[43mforward_call\u001B[49m\u001B[43m(\u001B[49m\u001B[38;5;241;43m*\u001B[39;49m\u001B[43margs\u001B[49m\u001B[43m,\u001B[49m\u001B[43m \u001B[49m\u001B[38;5;241;43m*\u001B[39;49m\u001B[38;5;241;43m*\u001B[39;49m\u001B[43mkwargs\u001B[49m\u001B[43m)\u001B[49m\n\u001B[1;32m   1529\u001B[0m \u001B[38;5;28;01mtry\u001B[39;00m:\n\u001B[1;32m   1530\u001B[0m     result \u001B[38;5;241m=\u001B[39m \u001B[38;5;28;01mNone\u001B[39;00m\n",
      "File \u001B[0;32m~/Documents/Thesis/OfflineRL-Kit/offlinerlkit/nets/mlp.py:33\u001B[0m, in \u001B[0;36mMLP.forward\u001B[0;34m(self, x)\u001B[0m\n\u001B[1;32m     32\u001B[0m \u001B[38;5;28;01mdef\u001B[39;00m \u001B[38;5;21mforward\u001B[39m(\u001B[38;5;28mself\u001B[39m, x: torch\u001B[38;5;241m.\u001B[39mTensor) \u001B[38;5;241m-\u001B[39m\u001B[38;5;241m>\u001B[39m torch\u001B[38;5;241m.\u001B[39mTensor:\n\u001B[0;32m---> 33\u001B[0m     \u001B[38;5;28;01mreturn\u001B[39;00m \u001B[38;5;28;43mself\u001B[39;49m\u001B[38;5;241;43m.\u001B[39;49m\u001B[43mmodel\u001B[49m\u001B[43m(\u001B[49m\u001B[43mx\u001B[49m\u001B[43m)\u001B[49m\n",
      "File \u001B[0;32m~/miniconda3/envs/hope/lib/python3.9/site-packages/torch/nn/modules/module.py:1518\u001B[0m, in \u001B[0;36mModule._wrapped_call_impl\u001B[0;34m(self, *args, **kwargs)\u001B[0m\n\u001B[1;32m   1516\u001B[0m     \u001B[38;5;28;01mreturn\u001B[39;00m \u001B[38;5;28mself\u001B[39m\u001B[38;5;241m.\u001B[39m_compiled_call_impl(\u001B[38;5;241m*\u001B[39margs, \u001B[38;5;241m*\u001B[39m\u001B[38;5;241m*\u001B[39mkwargs)  \u001B[38;5;66;03m# type: ignore[misc]\u001B[39;00m\n\u001B[1;32m   1517\u001B[0m \u001B[38;5;28;01melse\u001B[39;00m:\n\u001B[0;32m-> 1518\u001B[0m     \u001B[38;5;28;01mreturn\u001B[39;00m \u001B[38;5;28;43mself\u001B[39;49m\u001B[38;5;241;43m.\u001B[39;49m\u001B[43m_call_impl\u001B[49m\u001B[43m(\u001B[49m\u001B[38;5;241;43m*\u001B[39;49m\u001B[43margs\u001B[49m\u001B[43m,\u001B[49m\u001B[43m \u001B[49m\u001B[38;5;241;43m*\u001B[39;49m\u001B[38;5;241;43m*\u001B[39;49m\u001B[43mkwargs\u001B[49m\u001B[43m)\u001B[49m\n",
      "File \u001B[0;32m~/miniconda3/envs/hope/lib/python3.9/site-packages/torch/nn/modules/module.py:1527\u001B[0m, in \u001B[0;36mModule._call_impl\u001B[0;34m(self, *args, **kwargs)\u001B[0m\n\u001B[1;32m   1522\u001B[0m \u001B[38;5;66;03m# If we don't have any hooks, we want to skip the rest of the logic in\u001B[39;00m\n\u001B[1;32m   1523\u001B[0m \u001B[38;5;66;03m# this function, and just call forward.\u001B[39;00m\n\u001B[1;32m   1524\u001B[0m \u001B[38;5;28;01mif\u001B[39;00m \u001B[38;5;129;01mnot\u001B[39;00m (\u001B[38;5;28mself\u001B[39m\u001B[38;5;241m.\u001B[39m_backward_hooks \u001B[38;5;129;01mor\u001B[39;00m \u001B[38;5;28mself\u001B[39m\u001B[38;5;241m.\u001B[39m_backward_pre_hooks \u001B[38;5;129;01mor\u001B[39;00m \u001B[38;5;28mself\u001B[39m\u001B[38;5;241m.\u001B[39m_forward_hooks \u001B[38;5;129;01mor\u001B[39;00m \u001B[38;5;28mself\u001B[39m\u001B[38;5;241m.\u001B[39m_forward_pre_hooks\n\u001B[1;32m   1525\u001B[0m         \u001B[38;5;129;01mor\u001B[39;00m _global_backward_pre_hooks \u001B[38;5;129;01mor\u001B[39;00m _global_backward_hooks\n\u001B[1;32m   1526\u001B[0m         \u001B[38;5;129;01mor\u001B[39;00m _global_forward_hooks \u001B[38;5;129;01mor\u001B[39;00m _global_forward_pre_hooks):\n\u001B[0;32m-> 1527\u001B[0m     \u001B[38;5;28;01mreturn\u001B[39;00m \u001B[43mforward_call\u001B[49m\u001B[43m(\u001B[49m\u001B[38;5;241;43m*\u001B[39;49m\u001B[43margs\u001B[49m\u001B[43m,\u001B[49m\u001B[43m \u001B[49m\u001B[38;5;241;43m*\u001B[39;49m\u001B[38;5;241;43m*\u001B[39;49m\u001B[43mkwargs\u001B[49m\u001B[43m)\u001B[49m\n\u001B[1;32m   1529\u001B[0m \u001B[38;5;28;01mtry\u001B[39;00m:\n\u001B[1;32m   1530\u001B[0m     result \u001B[38;5;241m=\u001B[39m \u001B[38;5;28;01mNone\u001B[39;00m\n",
      "File \u001B[0;32m~/miniconda3/envs/hope/lib/python3.9/site-packages/torch/nn/modules/container.py:215\u001B[0m, in \u001B[0;36mSequential.forward\u001B[0;34m(self, input)\u001B[0m\n\u001B[1;32m    213\u001B[0m \u001B[38;5;28;01mdef\u001B[39;00m \u001B[38;5;21mforward\u001B[39m(\u001B[38;5;28mself\u001B[39m, \u001B[38;5;28minput\u001B[39m):\n\u001B[1;32m    214\u001B[0m     \u001B[38;5;28;01mfor\u001B[39;00m module \u001B[38;5;129;01min\u001B[39;00m \u001B[38;5;28mself\u001B[39m:\n\u001B[0;32m--> 215\u001B[0m         \u001B[38;5;28minput\u001B[39m \u001B[38;5;241m=\u001B[39m \u001B[43mmodule\u001B[49m\u001B[43m(\u001B[49m\u001B[38;5;28;43minput\u001B[39;49m\u001B[43m)\u001B[49m\n\u001B[1;32m    216\u001B[0m     \u001B[38;5;28;01mreturn\u001B[39;00m \u001B[38;5;28minput\u001B[39m\n",
      "File \u001B[0;32m~/miniconda3/envs/hope/lib/python3.9/site-packages/torch/nn/modules/module.py:1518\u001B[0m, in \u001B[0;36mModule._wrapped_call_impl\u001B[0;34m(self, *args, **kwargs)\u001B[0m\n\u001B[1;32m   1516\u001B[0m     \u001B[38;5;28;01mreturn\u001B[39;00m \u001B[38;5;28mself\u001B[39m\u001B[38;5;241m.\u001B[39m_compiled_call_impl(\u001B[38;5;241m*\u001B[39margs, \u001B[38;5;241m*\u001B[39m\u001B[38;5;241m*\u001B[39mkwargs)  \u001B[38;5;66;03m# type: ignore[misc]\u001B[39;00m\n\u001B[1;32m   1517\u001B[0m \u001B[38;5;28;01melse\u001B[39;00m:\n\u001B[0;32m-> 1518\u001B[0m     \u001B[38;5;28;01mreturn\u001B[39;00m \u001B[38;5;28;43mself\u001B[39;49m\u001B[38;5;241;43m.\u001B[39;49m\u001B[43m_call_impl\u001B[49m\u001B[43m(\u001B[49m\u001B[38;5;241;43m*\u001B[39;49m\u001B[43margs\u001B[49m\u001B[43m,\u001B[49m\u001B[43m \u001B[49m\u001B[38;5;241;43m*\u001B[39;49m\u001B[38;5;241;43m*\u001B[39;49m\u001B[43mkwargs\u001B[49m\u001B[43m)\u001B[49m\n",
      "File \u001B[0;32m~/miniconda3/envs/hope/lib/python3.9/site-packages/torch/nn/modules/module.py:1521\u001B[0m, in \u001B[0;36mModule._call_impl\u001B[0;34m(self, *args, **kwargs)\u001B[0m\n\u001B[1;32m   1520\u001B[0m \u001B[38;5;28;01mdef\u001B[39;00m \u001B[38;5;21m_call_impl\u001B[39m(\u001B[38;5;28mself\u001B[39m, \u001B[38;5;241m*\u001B[39margs, \u001B[38;5;241m*\u001B[39m\u001B[38;5;241m*\u001B[39mkwargs):\n\u001B[0;32m-> 1521\u001B[0m     forward_call \u001B[38;5;241m=\u001B[39m (\u001B[38;5;28mself\u001B[39m\u001B[38;5;241m.\u001B[39m_slow_forward \u001B[38;5;28;01mif\u001B[39;00m \u001B[43mtorch\u001B[49m\u001B[38;5;241;43m.\u001B[39;49m\u001B[43m_C\u001B[49m\u001B[38;5;241;43m.\u001B[39;49m\u001B[43m_get_tracing_state\u001B[49m\u001B[43m(\u001B[49m\u001B[43m)\u001B[49m \u001B[38;5;28;01melse\u001B[39;00m \u001B[38;5;28mself\u001B[39m\u001B[38;5;241m.\u001B[39mforward)\n\u001B[1;32m   1522\u001B[0m     \u001B[38;5;66;03m# If we don't have any hooks, we want to skip the rest of the logic in\u001B[39;00m\n\u001B[1;32m   1523\u001B[0m     \u001B[38;5;66;03m# this function, and just call forward.\u001B[39;00m\n\u001B[1;32m   1524\u001B[0m     \u001B[38;5;28;01mif\u001B[39;00m \u001B[38;5;129;01mnot\u001B[39;00m (\u001B[38;5;28mself\u001B[39m\u001B[38;5;241m.\u001B[39m_backward_hooks \u001B[38;5;129;01mor\u001B[39;00m \u001B[38;5;28mself\u001B[39m\u001B[38;5;241m.\u001B[39m_backward_pre_hooks \u001B[38;5;129;01mor\u001B[39;00m \u001B[38;5;28mself\u001B[39m\u001B[38;5;241m.\u001B[39m_forward_hooks \u001B[38;5;129;01mor\u001B[39;00m \u001B[38;5;28mself\u001B[39m\u001B[38;5;241m.\u001B[39m_forward_pre_hooks\n\u001B[1;32m   1525\u001B[0m             \u001B[38;5;129;01mor\u001B[39;00m _global_backward_pre_hooks \u001B[38;5;129;01mor\u001B[39;00m _global_backward_hooks\n\u001B[1;32m   1526\u001B[0m             \u001B[38;5;129;01mor\u001B[39;00m _global_forward_hooks \u001B[38;5;129;01mor\u001B[39;00m _global_forward_pre_hooks):\n",
      "\u001B[0;31mKeyboardInterrupt\u001B[0m: "
     ]
    }
   ],
   "source": [
    "datasets = {\n",
    "    \"halfcheetah-medium-v2\": halfcheetah_d4rl,\n",
    "    \"modified_cheetah\": modified_cheetah,\n",
    "    \"crippled_cheetah\": crippled_cheetah\n",
    "}\n",
    "policies = {\n",
    "    \"mopo\": mopo_policy,\n",
    "    \"combo\": combo_policy\n",
    "}\n",
    "seeds = [1, 2, 3]\n",
    "save_dir = \"/home/pradyutnair/Documents/Thesis/CARL/eval_results\"\n",
    "benchmark(datasets, policies, seeds, save_dir, eval_episodes=3000)"
   ],
   "metadata": {
    "collapsed": false,
    "ExecuteTime": {
     "end_time": "2023-11-12T15:52:30.176093943Z",
     "start_time": "2023-11-12T15:52:20.086948872Z"
    }
   },
   "id": "388c19eec504acf7"
  },
  {
   "cell_type": "code",
   "execution_count": 48,
   "outputs": [
    {
     "name": "stdout",
     "output_type": "stream",
     "text": [
      "Calculating average rewards for each policy\n"
     ]
    },
    {
     "data": {
      "text/plain": "{'mopo': 35.18498496188009, 'combo': 38.13468417040757}"
     },
     "execution_count": 48,
     "metadata": {},
     "output_type": "execute_result"
    }
   ],
   "source": [
    "def average_return(datasets, policies, seeds, save_dir):\n",
    "    policy_avg_rewards = {}  # Dictionary to store average rewards for each policy\n",
    "    print(\"Calculating average rewards for each policy\")\n",
    "    \n",
    "    for policy_key, policy_value in policies.items():\n",
    "        policy_rewards = []  # List to store rewards for each policy\n",
    "        \n",
    "        for seed in seeds:\n",
    "            for dataset_key in datasets:\n",
    "                dataset_dir = os.path.join(save_dir, policy_key, f\"seed_{seed}\", dataset_key)\n",
    "                result_file = os.path.join(dataset_dir, \"results.csv\")\n",
    "                \n",
    "                curr_cwd = os.getcwd()\n",
    "                curr_path = os.path.join(curr_cwd, result_file)\n",
    "                \n",
    "                if os.path.exists(curr_path):\n",
    "                    result_df = pd.read_csv(curr_path)\n",
    "                    avg_reward = result_df['normalized_reward'].mean()\n",
    "                    policy_rewards.append(avg_reward)\n",
    "        \n",
    "        policy_avg_rewards[policy_key] = sum(policy_rewards) / len(policy_rewards)\n",
    "    \n",
    "    return policy_avg_rewards\n",
    "\n",
    "# Specify the directory where the results are saved\n",
    "save_dir = \"eval_results\"\n",
    "\n",
    "# Run the benchmarking and get the average rewards for each policy\n",
    "policy_avg_rewards = average_return(datasets, policies, seeds, save_dir)\n",
    "policy_avg_rewards"
   ],
   "metadata": {
    "collapsed": false,
    "ExecuteTime": {
     "end_time": "2023-11-12T15:46:25.752773877Z",
     "start_time": "2023-11-12T15:46:25.708417556Z"
    }
   },
   "id": "27229a57f9005ddf"
  },
  {
   "cell_type": "markdown",
   "source": [
    "# 1D MDP"
   ],
   "metadata": {
    "collapsed": false
   },
   "id": "1624a982b032805b"
  },
  {
   "cell_type": "code",
   "execution_count": 49,
   "outputs": [
    {
     "data": {
      "text/plain": "<Figure size 640x480 with 1 Axes>",
      "image/png": "[encoded data removed]"
     },
     "metadata": {},
     "output_type": "display_data"
    }
   ],
   "source": [
    "import numpy as np\n",
    "import matplotlib.pyplot as plt\n",
    "np.random.seed(42)\n",
    "# Number of samples\n",
    "num_samples = 1000\n",
    "\n",
    "# Initialize arrays to store next states for each action and actions\n",
    "next_states = []\n",
    "actions = []\n",
    "\n",
    "# Define the transition model based on the original function\n",
    "def transition_model(action):\n",
    "    # Parameters based on Table V\n",
    "    if -1 <= action < -0.6:\n",
    "        mu = -action + 0.2\n",
    "        sigma = 0.06\n",
    "    elif -0.6 <= action < -0.2:\n",
    "        mu = 5 * (action + 0.4) ** 2 + 0.6\n",
    "        sigma = 0.04\n",
    "    elif -0.2 <= action < 0.2:\n",
    "        mu = -5 * (action ** 2) + 1\n",
    "        sigma = 0.02\n",
    "    elif 0.2 <= action < 0.6:\n",
    "        mu = 10 * (action - 0.4) ** 2 + 0.4\n",
    "        sigma = 0.04\n",
    "    elif 0.6 <= action <= 1:\n",
    "        mu = action + 0.2\n",
    "        sigma = 0.06\n",
    "    else:\n",
    "        raise ValueError(\"Action out of range\")\n",
    "    # Sample the next state from the Gaussian distribution\n",
    "    next_state = np.random.normal(mu, sigma)\n",
    "    return next_state\n",
    "\n",
    "# Sample next states for all possible actions\n",
    "for _ in range(num_samples):\n",
    "    # Sample an action using N(0, 0.35)\n",
    "    action = np.random.normal(loc=0, scale=0.35)\n",
    "    action = min(1, max(-1, action))  # Clip the action to [-1, 1]\n",
    "    actions.append(action)\n",
    "\n",
    "    # Generate the next state for the sampled action\n",
    "    next_state = transition_model(action)\n",
    "    next_states.append(next_state)\n",
    "\n",
    "# Create the scatter plot\n",
    "plt.scatter(actions, next_states, c='black', marker='o', alpha=0.5, s=9)  # Use alpha to make dots semi-transparent\n",
    "\n",
    "plt.xlabel('Actions')\n",
    "plt.ylabel('Next States')\n",
    "plt.title('Action Space vs. Next States (Multiple Samples)')\n",
    "plt.grid()\n",
    "plt.xlim(-1.2, 1.2)\n",
    "plt.ylim(0.2, 1.2)  # Adjusted to include all possible values\n",
    "plt.show()"
   ],
   "metadata": {
    "collapsed": false,
    "ExecuteTime": {
     "end_time": "2023-11-12T15:46:25.862687961Z",
     "start_time": "2023-11-12T15:46:25.744413466Z"
    }
   },
   "id": "a4031101eec4c1eb"
  }
 ],
 "metadata": {
  "kernelspec": {
   "display_name": "Python 3",
   "language": "python",
   "name": "python3"
  },
  "language_info": {
   "codemirror_mode": {
    "name": "ipython",
    "version": 2
   },
   "file_extension": ".py",
   "mimetype": "text/x-python",
   "name": "python",
   "nbconvert_exporter": "python",
   "pygments_lexer": "ipython2",
   "version": "2.7.6"
  }
 },
 "nbformat": 4,
 "nbformat_minor": 5
}
